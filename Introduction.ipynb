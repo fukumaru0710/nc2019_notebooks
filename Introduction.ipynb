{
 "cells": [
  {
   "cell_type": "markdown",
   "metadata": {},
   "source": [
    "# Julia\n",
    "\n",
    "## はじめに\n",
    "\n",
    "Julia は科学計算処理向けのプログラミング言語です．\n",
    "実行速度と記述のしやすさの両立を目指した言語設計になっており，\n",
    "様々な科学技術計算で利用されることが期待されています．\n",
    "ここでは，基本的な Julia の文法について，C言語と対比しながら紹介します．"
   ]
  },
  {
   "cell_type": "markdown",
   "metadata": {},
   "source": [
    "---"
   ]
  },
  {
   "cell_type": "markdown",
   "metadata": {},
   "source": [
    "## 変数と型\n",
    "\n",
    "Julia では変数の宣言が必要なく，代入文を記述することから変数が使えます．また，変数の型は代入される値などから自動的に型推論されるため\n",
    "ほとんどの場合で省略可能です．さらに変数名にUTF-8（漢字や記号）も使えます．\n",
    "\n",
    "| 項目 | Julia | C言語 |\n",
    "|:-|:-|:-|\n",
    "|　変数の宣言　|　原則なし　|　必須　|\n",
    "|　型の宣言　|　動的型付け　|　必須　|\n",
    "|　変数名　|　UTF-8　|　英大文字・英小文字・記号　|"
   ]
  },
  {
   "cell_type": "code",
   "execution_count": 1,
   "metadata": {},
   "outputs": [
    {
     "name": "stdout",
     "output_type": "stream",
     "text": [
      "Int64\n"
     ]
    }
   ],
   "source": [
    "a = -10 # 変数aに10を代入\n",
    "println(typeof(a)) # 整数値は64bit OS の場合デフォルトで Int64 (64ビット符号付き整数).　現行のC言語は32ビット整数（の場合が多い）"
   ]
  },
  {
   "cell_type": "code",
   "execution_count": 2,
   "metadata": {},
   "outputs": [
    {
     "name": "stdout",
     "output_type": "stream",
     "text": [
      "Float64\n"
     ]
    }
   ],
   "source": [
    "b = 10.0 # 変数bに10.0を代入\n",
    "println(typeof(b)) # 小数点を含むと実数として解釈する．デフォルトは Float64　（8バイトの倍精度浮動小数点実数）．Float64 <=> double"
   ]
  },
  {
   "cell_type": "code",
   "execution_count": 40,
   "metadata": {},
   "outputs": [
    {
     "name": "stdout",
     "output_type": "stream",
     "text": [
      "Int16\n"
     ]
    }
   ],
   "source": [
    "c = Int16(10) # 型を指定（変換）\n",
    "println(typeof(c)) # Int8 -> 8 ビット符号付き整数"
   ]
  },
  {
   "cell_type": "code",
   "execution_count": 4,
   "metadata": {},
   "outputs": [
    {
     "data": {
      "text/plain": [
       "1.0"
      ]
     },
     "execution_count": 4,
     "metadata": {},
     "output_type": "execute_result"
    }
   ],
   "source": [
    "# 漢字や記号を変数にすることができます\n",
    "広島大学=10\n",
    "α=1.0"
   ]
  },
  {
   "cell_type": "markdown",
   "metadata": {},
   "source": [
    "#### Question: 以下を計算したとき変数dは何型か確かめてみよう\n",
    "```julia\n",
    "d=a+c\n",
    "```"
   ]
  },
  {
   "cell_type": "code",
   "execution_count": 62,
   "metadata": {},
   "outputs": [],
   "source": [
    "#### Answer\n"
   ]
  },
  {
   "cell_type": "markdown",
   "metadata": {},
   "source": [
    "### 型の対応\n",
    "\n",
    "Juliaで利用するほとんどの基本型はビット数を含む表記になっています．また，C言語で利用する基本型はすべてカバーしています．一部 int 型のビット数などが違うので注意してください．\n",
    "\n",
    "| 型 | Julia | C言語 |\n",
    "|:-|:-|:-|\n",
    "|論理値|Bool|int|\n",
    "| 8ビット符号付き整数|Int8 | char |\n",
    "| 16ビット符号付き整数 |Int16| short (int) |\n",
    "| 32ビット符号付き整数 |Int32| int |\n",
    "| 64ビット符号付き整数 |Int64| long long |\n",
    "| 128ビット符号付き整数 |Int128| --- |\n",
    "| 2バイトの半精度浮動小数点実数 | Float16 | --- |\n",
    "| 4バイトの単精度浮動小数点実数 | Float32 | float |\n",
    "| 8バイトの倍精度浮動小数点実数 | Float64 | double |\n",
    "| 任意精度整数 | BigInt | --- |\n",
    "| 任意精度浮動小数点実数 | BigFloat | --- |\n",
    "\n",
    "### 型変換\n",
    "\n",
    "別の型への変換は型名を利用して\n",
    "```\n",
    "Int8(4.5)\n",
    "```\n",
    "ようにします．"
   ]
  },
  {
   "cell_type": "code",
   "execution_count": 43,
   "metadata": {},
   "outputs": [
    {
     "name": "stdout",
     "output_type": "stream",
     "text": [
      "1\n"
     ]
    }
   ],
   "source": [
    "println(Int16(Int8(1))) # 小さいサイズ（ビット数）から大きいビット数へは変換できます"
   ]
  },
  {
   "cell_type": "code",
   "execution_count": 50,
   "metadata": {},
   "outputs": [
    {
     "ename": "InexactError",
     "evalue": "InexactError: trunc(Int8, 1000)",
     "output_type": "error",
     "traceback": [
      "InexactError: trunc(Int8, 1000)",
      "",
      "Stacktrace:",
      " [1] throw_inexacterror(::Symbol, ::Any, ::Int16) at ./boot.jl:583",
      " [2] checked_trunc_sint at ./boot.jl:605 [inlined]",
      " [3] toInt8 at ./boot.jl:618 [inlined]",
      " [4] Int8(::Int16) at ./boot.jl:730",
      " [5] top-level scope at In[50]:1"
     ]
    }
   ],
   "source": [
    "println(Int8(Int16(1000))) # より小さいサイズにする場合は原則エラーがでます"
   ]
  },
  {
   "cell_type": "code",
   "execution_count": 49,
   "metadata": {},
   "outputs": [
    {
     "data": {
      "text/plain": [
       "10"
      ]
     },
     "execution_count": 49,
     "metadata": {},
     "output_type": "execute_result"
    }
   ],
   "source": [
    "trunc(Int8, 10.5) # C言語などでよくやる切り捨ては trunc 関数を使います"
   ]
  },
  {
   "cell_type": "markdown",
   "metadata": {},
   "source": [
    "---"
   ]
  },
  {
   "cell_type": "markdown",
   "metadata": {},
   "source": [
    "## 演算子\n",
    "\n",
    "JuliaはC言語で利用する演算子をほとんど利用できます．以下によく使う四則演算子，代入演算子，関係演算子，論理演算子とC言語との違いをまとめておきます．\n",
    "\n",
    "- 四則演算子\n",
    "    - C言語と異なる点\n",
    "        - 整数同士でも `/` はふつうの除算をする．\n",
    "        - 逆除算演算子 `\\`（バックスラッシュ，円マークボタンで表示される）は `a \\ b -> b / a` の意味\n",
    "        - べき乗演算子 `^` がある\n",
    "    ```\n",
    "    +, -, *, /, \\, %, ^\n",
    "    ```\n",
    "- 代入演算子\n",
    "    - C言語と異なる点\n",
    "        - `/=`, `\\=`, `^=` は上述の `/`, `\\`, `^` のルールに準拠する\n",
    "        - インクリメント・デクリメント演算子 `++`, `--` はない\n",
    "    ```\n",
    "    =, +=, -=, *=, /=, \\=, %=, ^=\n",
    "    ```\n",
    "- 関係演算子\n",
    "    - C言語と異なる点\n",
    "        - 結果が Bool 型で返ってくる\n",
    "        - 関係演算子を連続して使える\n",
    "    ```\n",
    "    ==, !=, <=, >=, <, >\n",
    "    ```\n",
    "- 論理演算子\n",
    "    - C言語との違いは特になし\n",
    "   ```\n",
    "   &&, ||\n",
    "   ```\n",
    "\n",
    "\n",
    "その他，ビット演算子，三項演算子はほぼC言語と同じ（xorを除く）です．Juliaではポインタ操作がないためポインタ関係の演算子はありません．"
   ]
  },
  {
   "cell_type": "code",
   "execution_count": 23,
   "metadata": {},
   "outputs": [
    {
     "data": {
      "text/plain": [
       "3.3333333333333335"
      ]
     },
     "execution_count": 23,
     "metadata": {},
     "output_type": "execute_result"
    }
   ],
   "source": [
    "10 / 3 # 結果が3（整数除算）ではなくふつうの除算"
   ]
  },
  {
   "cell_type": "code",
   "execution_count": 27,
   "metadata": {},
   "outputs": [
    {
     "data": {
      "text/plain": [
       "3"
      ]
     },
     "execution_count": 27,
     "metadata": {},
     "output_type": "execute_result"
    }
   ],
   "source": [
    "div(10, 3) # 整数除算は div 関数をつかいます"
   ]
  },
  {
   "cell_type": "code",
   "execution_count": 34,
   "metadata": {},
   "outputs": [
    {
     "data": {
      "text/plain": [
       "0.3"
      ]
     },
     "execution_count": 34,
     "metadata": {},
     "output_type": "execute_result"
    }
   ],
   "source": [
    "10 \\ 3 # 3 / 10 を計算します"
   ]
  },
  {
   "cell_type": "code",
   "execution_count": 37,
   "metadata": {},
   "outputs": [
    {
     "data": {
      "text/plain": [
       "1.4142135623730951"
      ]
     },
     "execution_count": 37,
     "metadata": {},
     "output_type": "execute_result"
    }
   ],
   "source": [
    "2^0.5 # 2の0.5乗を計算します"
   ]
  },
  {
   "cell_type": "code",
   "execution_count": 28,
   "metadata": {},
   "outputs": [
    {
     "data": {
      "text/plain": [
       "true"
      ]
     },
     "execution_count": 28,
     "metadata": {},
     "output_type": "execute_result"
    }
   ],
   "source": [
    "0 < 1 < 2 < 3 # 連続した関係演算子を使えます"
   ]
  },
  {
   "cell_type": "code",
   "execution_count": 32,
   "metadata": {},
   "outputs": [
    {
     "data": {
      "text/plain": [
       "false"
      ]
     },
     "execution_count": 32,
     "metadata": {},
     "output_type": "execute_result"
    }
   ],
   "source": [
    "0 < 1 < 2 >= 3 # 連続した関係演算子を使えます"
   ]
  },
  {
   "cell_type": "markdown",
   "metadata": {},
   "source": [
    "---"
   ]
  },
  {
   "cell_type": "markdown",
   "metadata": {},
   "source": [
    "## 制御文\n",
    "\n",
    "Juliaでは以下の制御構文が記述できます\n",
    "- if-elseif-else-end構文\n",
    "- for-end構文\n",
    "- while-end構文"
   ]
  },
  {
   "cell_type": "markdown",
   "metadata": {},
   "source": [
    "#### if-elseif-else-end構文\n",
    "\n",
    "基本的な書式は以下になります．C言語のブロック`{}`の代わりにif-endを使って構造化します．\n",
    "また，条件部分には括弧が必要ありません．\n",
    "\n",
    "```\n",
    "if 条件\n",
    "   処理\n",
    "elseif 条件\n",
    "   処理\n",
    "else\n",
    "   処理\n",
    "end\n",
    "```"
   ]
  },
  {
   "cell_type": "code",
   "execution_count": 55,
   "metadata": {},
   "outputs": [
    {
     "name": "stdout",
     "output_type": "stream",
     "text": [
      "3の倍数です\n"
     ]
    }
   ],
   "source": [
    "x = 3\n",
    "if x % 3 == 0 && x % 5 == 0\n",
    "    println(\"3かつ5の倍数です\")\n",
    "elseif x % 3 == 0\n",
    "    println(\"3の倍数です\")\n",
    "elseif x % 5 == 0\n",
    "    println(\"5の倍数です\")\n",
    "else\n",
    "    println(\"3の倍数でも5の倍数でもありません\")\n",
    "end"
   ]
  },
  {
   "cell_type": "markdown",
   "metadata": {},
   "source": [
    "#### for-end構文\n",
    "\n",
    "C言語のブロック`{}`の代わりにfor-endを使って構造化します．forの条件の書き方がC言語と異なり，複数要素を（左から）一つずつ処理する点に注意してください．\n",
    "\n",
    "```\n",
    "for i in 複数要素\n",
    "   処理\n",
    "end\n",
    "```\n",
    "または\n",
    "```\n",
    "for i = 複数要素\n",
    "   処理\n",
    "end\n",
    "```"
   ]
  },
  {
   "cell_type": "code",
   "execution_count": 60,
   "metadata": {},
   "outputs": [
    {
     "name": "stdout",
     "output_type": "stream",
     "text": [
      "1\n",
      "2\n",
      "3\n",
      "4\n",
      "5\n",
      "6\n",
      "7\n",
      "8\n",
      "9\n",
      "10\n"
     ]
    }
   ],
   "source": [
    "for i=1:10 # 1:10 は 1 から 10 までの複数要素を生成する\n",
    "    println(i)\n",
    "end"
   ]
  },
  {
   "cell_type": "code",
   "execution_count": 61,
   "metadata": {},
   "outputs": [
    {
     "name": "stdout",
     "output_type": "stream",
     "text": [
      "10\n",
      "9\n",
      "8\n",
      "7\n",
      "6\n",
      "5\n",
      "4\n",
      "3\n",
      "2\n",
      "1\n"
     ]
    }
   ],
   "source": [
    "for i=10:-1:1 # 10:-1:1 は 10 から 1 まで -1 ずつ減る複数要素を生成する\n",
    "    println(i)\n",
    "end"
   ]
  },
  {
   "cell_type": "markdown",
   "metadata": {},
   "source": [
    "#### while-end構文\n",
    "\n",
    "基本的な書式は以下になります．C言語のブロック`{}`の代わりにwhile-endを使って構造化します．\n",
    "また，条件部分には括弧が必要ありません．\n",
    "\n",
    "```\n",
    "while 条件\n",
    "    処理\n",
    "end\n",
    "```"
   ]
  },
  {
   "cell_type": "code",
   "execution_count": 62,
   "metadata": {},
   "outputs": [
    {
     "name": "stdout",
     "output_type": "stream",
     "text": [
      "0\n",
      "1\n",
      "2\n",
      "3\n",
      "4\n",
      "5\n",
      "6\n",
      "7\n",
      "8\n",
      "9\n",
      "10\n"
     ]
    }
   ],
   "source": [
    "i=0\n",
    "while i<=10\n",
    "    println(i)\n",
    "    i+=1\n",
    "end"
   ]
  },
  {
   "cell_type": "markdown",
   "metadata": {},
   "source": [
    "---"
   ]
  },
  {
   "cell_type": "markdown",
   "metadata": {},
   "source": [
    "## 関数\n",
    "\n",
    "C言語同様にビルトインの関数とユーザ定義の関数の利用ができます．"
   ]
  },
  {
   "cell_type": "markdown",
   "metadata": {},
   "source": [
    "### ビルトイン関数\n",
    "\n",
    "数学で利用する関数は既に組み込まれています．よく使うものを以下に挙げます．\n",
    "\n",
    "- exp(x): 指数関数\n",
    "- log(x): 自然対数\n",
    "- sin(x), cos(x), tan(x): 三角関数\n",
    "- abs(x): 絶対値\n",
    "- sqrt(x): 累乗根\n",
    "- min(x, y, z, ...), max(x, y, z, ...): 最大値，最小値"
   ]
  },
  {
   "cell_type": "code",
   "execution_count": 66,
   "metadata": {},
   "outputs": [
    {
     "data": {
      "text/plain": [
       "2.718281828459045"
      ]
     },
     "execution_count": 66,
     "metadata": {},
     "output_type": "execute_result"
    }
   ],
   "source": [
    "exp(1)"
   ]
  },
  {
   "cell_type": "markdown",
   "metadata": {},
   "source": [
    "log(exp(1))"
   ]
  },
  {
   "cell_type": "code",
   "execution_count": 74,
   "metadata": {},
   "outputs": [
    {
     "data": {
      "text/plain": [
       "1.0"
      ]
     },
     "execution_count": 74,
     "metadata": {},
     "output_type": "execute_result"
    }
   ],
   "source": [
    "x = pi/2 # 円周率は pi として予め定義されています\n",
    "sin(x)^2 + cos(x)^2"
   ]
  },
  {
   "cell_type": "code",
   "execution_count": 78,
   "metadata": {},
   "outputs": [
    {
     "data": {
      "text/plain": [
       "5.0"
      ]
     },
     "execution_count": 78,
     "metadata": {},
     "output_type": "execute_result"
    }
   ],
   "source": [
    "abs(-5.0)"
   ]
  },
  {
   "cell_type": "code",
   "execution_count": 79,
   "metadata": {},
   "outputs": [
    {
     "data": {
      "text/plain": [
       "1.4142135623730951"
      ]
     },
     "execution_count": 79,
     "metadata": {},
     "output_type": "execute_result"
    }
   ],
   "source": [
    "sqrt(2.0)"
   ]
  },
  {
   "cell_type": "code",
   "execution_count": 80,
   "metadata": {},
   "outputs": [
    {
     "data": {
      "text/plain": [
       "1"
      ]
     },
     "execution_count": 80,
     "metadata": {},
     "output_type": "execute_result"
    }
   ],
   "source": [
    "min(4,5,6,3,2,1) # 複数の引数で記述できます"
   ]
  },
  {
   "cell_type": "code",
   "execution_count": 81,
   "metadata": {},
   "outputs": [
    {
     "data": {
      "text/plain": [
       "7"
      ]
     },
     "execution_count": 81,
     "metadata": {},
     "output_type": "execute_result"
    }
   ],
   "source": [
    "max(5,4,6,7,4,3)"
   ]
  },
  {
   "cell_type": "markdown",
   "metadata": {},
   "source": [
    "### 関数のオーバーロード\n",
    "\n",
    "Juliaは多重ディスパッチの機能により引数が異なる関数は別の処理をします．\n",
    "```\n",
    "log(b, x): b を底とする対数\n",
    "```"
   ]
  },
  {
   "cell_type": "code",
   "execution_count": 83,
   "metadata": {},
   "outputs": [
    {
     "data": {
      "text/plain": [
       "3.3219280948873626"
      ]
     },
     "execution_count": 83,
     "metadata": {},
     "output_type": "execute_result"
    }
   ],
   "source": [
    "log(2, 10) # log2(10) の値"
   ]
  },
  {
   "cell_type": "code",
   "execution_count": 84,
   "metadata": {},
   "outputs": [
    {
     "data": {
      "text/plain": [
       "2.302585092994046"
      ]
     },
     "execution_count": 84,
     "metadata": {},
     "output_type": "execute_result"
    }
   ],
   "source": [
    "log(10)"
   ]
  },
  {
   "cell_type": "code",
   "execution_count": null,
   "metadata": {},
   "outputs": [],
   "source": []
  }
 ],
 "metadata": {
  "kernelspec": {
   "display_name": "Julia 1.1.0",
   "language": "julia",
   "name": "julia-1.1"
  },
  "language_info": {
   "file_extension": ".jl",
   "mimetype": "application/julia",
   "name": "julia",
   "version": "1.1.0"
  }
 },
 "nbformat": 4,
 "nbformat_minor": 2
}
