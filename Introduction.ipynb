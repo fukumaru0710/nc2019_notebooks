{
 "cells": [
  {
   "cell_type": "markdown",
   "metadata": {},
   "source": [
    "# Julia\n",
    "\n",
    "## はじめに\n",
    "\n",
    "Julia は科学計算処理向けのプログラミング言語です．実行速度と記述のしやすさの両立を目指した言語設計になっており，様々な科学技術計算で利用されることが期待されています．ここでは，基本的な Julia の文法について，C言語と対比しながら紹介します．"
   ]
  },
  {
   "cell_type": "markdown",
   "metadata": {},
   "source": [
    "## 変数と型\n",
    "\n",
    "Julia では変数の宣言が必要なく，代入文を記述することから変数が使えます．また，変数の型は代入される値などから自動的に型推論されるため\n",
    "ほとんどの場合で省略可能です．さらに変数名にUTF-8（漢字や記号）も使えます．\n",
    "\n",
    "| 項目 | Julia | C言語 |\n",
    "|:-|:-|:-|\n",
    "|　変数の宣言　|　原則なし　|　必須　|\n",
    "|　型の宣言　|　動的型付け　|　必須　|\n",
    "|　変数名　|　UTF-8　|　英大文字・英小文字・記号　|"
   ]
  },
  {
   "cell_type": "code",
   "execution_count": 30,
   "metadata": {},
   "outputs": [
    {
     "name": "stdout",
     "output_type": "stream",
     "text": [
      "Int64\n"
     ]
    }
   ],
   "source": [
    "a = -10 # 変数aに10を代入\n",
    "println(typeof(a)) # 整数値は64bit OS の場合デフォルトで Int64 (64ビット符号付き整数).　現行のC言語は32ビット整数（の場合が多い）"
   ]
  },
  {
   "cell_type": "markdown",
   "metadata": {},
   "source": [
    "b = 10.0 # 変数bに10.0を代入\n",
    "println(typeof(b)) # 小数点を含むと実数として解釈する．デフォルトは Float64　（8バイトの倍精度浮動小数点実数）．　Float64 <=> double"
   ]
  },
  {
   "cell_type": "code",
   "execution_count": 46,
   "metadata": {},
   "outputs": [
    {
     "name": "stdout",
     "output_type": "stream",
     "text": [
      "Int16\n"
     ]
    }
   ],
   "source": [
    "c = Int16(10) # 型を指定\n",
    "println(typeof(c)) # Int8 -> 8 ビット符号付き整数"
   ]
  },
  {
   "cell_type": "code",
   "execution_count": 41,
   "metadata": {},
   "outputs": [
    {
     "data": {
      "text/plain": [
       "1.0"
      ]
     },
     "execution_count": 41,
     "metadata": {},
     "output_type": "execute_result"
    }
   ],
   "source": [
    "# 漢字や記号を変数にすることができます\n",
    "広島大学=10\n",
    "α=1.0"
   ]
  },
  {
   "cell_type": "markdown",
   "metadata": {},
   "source": [
    "#### Question: 以下を計算したとき変数dは何型か確かめてみよう\n",
    "```julia\n",
    "d=a+c\n",
    "```"
   ]
  },
  {
   "cell_type": "code",
   "execution_count": 62,
   "metadata": {},
   "outputs": [],
   "source": [
    "#### Answer\n"
   ]
  },
  {
   "cell_type": "markdown",
   "metadata": {},
   "source": [
    "### 型の対応\n",
    "\n",
    "| 型 | Julia | C言語 |\n",
    "|:-|:-|:-|\n",
    "|　8ビット符号付き整数　|　Int8　|　char |\n",
    "|　16ビット符号付き整数　|　Int16　|　short (int) |\n",
    "|　32ビット符号付き整数　|　Int32　|　int　|\n",
    "|　64ビット符号付き整数　|　Int64　|　long long　|\n",
    "|　128ビット符号付き整数　|　Int128　|　---　|\n",
    "| 2バイトの半精度浮動小数点実数 | Float16 | --- |\n",
    "| 4バイトの単精度浮動小数点実数 | Float32 | float |\n",
    "| 8バイトの倍精度浮動小数点実数 | Float64 | double |\n",
    "| 任意精度整数 | BigInt | --- |\n",
    "| 任意精度浮動小数点実数 | BigFloat | --- |"
   ]
  },
  {
   "cell_type": "code",
   "execution_count": null,
   "metadata": {},
   "outputs": [],
   "source": []
  }
 ],
 "metadata": {
  "kernelspec": {
   "display_name": "Julia 1.1.0",
   "language": "julia",
   "name": "julia-1.1"
  },
  "language_info": {
   "file_extension": ".jl",
   "mimetype": "application/julia",
   "name": "julia",
   "version": "1.1.0"
  }
 },
 "nbformat": 4,
 "nbformat_minor": 2
}
