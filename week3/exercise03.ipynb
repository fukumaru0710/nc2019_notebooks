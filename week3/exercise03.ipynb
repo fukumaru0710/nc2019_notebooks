{
 "cells": [
  {
   "cell_type": "markdown",
   "metadata": {},
   "source": [
    "# 課題（固有値・固有ベクトル）\n",
    "\n",
    "- すべての課題を実行せよ\n",
    "- すべての課題が完了したら Jupyter の File メニューから Download as -> HTML (.html) として結果をダウンロードし， Bb9 の「課題」からファイル添付で提出せよ"
   ]
  },
  {
   "cell_type": "code",
   "execution_count": null,
   "metadata": {},
   "outputs": [],
   "source": [
    "# 初期化なので最初に実行してください\n",
    "using Test\n",
    "using LinearAlgebra"
   ]
  },
  {
   "cell_type": "markdown",
   "metadata": {},
   "source": [
    "## 課題1: QR法\n",
    "\n",
    "- 正方行列 A を QR 分解し，新たな行列 A=RQ を作成する\n",
    "- この手続きを繰り返すと A は上三角行列に近づき，対角要素が行列Aの固有値となる"
   ]
  },
  {
   "cell_type": "markdown",
   "metadata": {},
   "source": [
    "### qr2 の説明\n",
    "- 引数\n",
    "    - A: m行n列の行列\n",
    "- 戻り値\n",
    "    - Q: 互いに直交するn個の列ベクトルからなる行列．m行n列の行列\n",
    "    - R: n行n列の上三角行列\n",
    "- 関数内の変数\n",
    "    - A[:,j]: 行列 $A$ の $j$ 列目のベクトル\n",
    "    - Q[:,j]: 行列 $Q$ の $j$ 列目のベクトル\n",
    "    - R[i,j]: 行列 $R$ の $i,j$ 要素\n",
    "    - m: 行数\n",
    "    - n: 列数"
   ]
  },
  {
   "cell_type": "code",
   "execution_count": null,
   "metadata": {},
   "outputs": [],
   "source": [
    "function qr2(A)\n",
    "    m,n = size(A)\n",
    "    Q = copy(A)  # Aのコピーを作成\n",
    "    R = zeros(n,n)\n",
    "    R[1,1] = norm(Q[:,1])\n",
    "    Q[:,1] /= R[1,1]\n",
    "    for k = 2:n\n",
    "        for i = 1:k-1\n",
    "            R[i,k] = dot(Q[:,i], A[:,k])\n",
    "            Q[:,k] -= R[i,k] * Q[:,i]\n",
    "        end\n",
    "        R[k,k] = norm(Q[:,k])\n",
    "        Q[:,k] /= R[k,k]\n",
    "    end\n",
    "    return (Q,R)\n",
    "end"
   ]
  },
  {
   "cell_type": "markdown",
   "metadata": {},
   "source": [
    "### 課題1-1\n",
    "- QR法によって固有値を求める関数 qralgorithm を作成せよ\n",
    "- 関数が作成できたらテストを実行して **Test Passed** になることを確認せよ\n",
    "- 関数がきちんとできていない場合 **Test Failed** が出力されるので **Test Passed**になるように backsolve を修正せよ"
   ]
  },
  {
   "cell_type": "markdown",
   "metadata": {},
   "source": [
    "#### qralgorithmの説明\n",
    "- 引数\n",
    "    - A: 正方行列\n",
    "- 戻り値\n",
    "    - diag(A): 固有値のベクトル\n",
    "- 関数内の変数\n",
    "    - diag(A): 行列Aの対角要素のベクトル\n",
    "    - Q: 行列AのQR分解から生成される直交行列\n",
    "    - R: 行列AのQR分解から生成される上三角行列\n",
    "    - t1, t2: 対角要素（固有値のベクトル）のノルム\n",
    "    - err: 対角要素のノルムの相対誤差"
   ]
  },
  {
   "cell_type": "code",
   "execution_count": null,
   "metadata": {},
   "outputs": [],
   "source": [
    "function qralgorithm(A)\n",
    "    err = 1.0  # エラーを適当に入れておく\n",
    "    t1 = diag(A) ## 対角要素ベクトル\n",
    "    while err > 1.0e-10\n",
    "        # コードを記述\n",
    "        # (1) 行列AをQR分解\n",
    "        # (2) R*Q として新しい行列A作成\n",
    "        t2 = diag(A)\n",
    "        err = maximum(abs.((t2 - t1) ./ t1))\n",
    "        t1 = t2\n",
    "    end\n",
    "    return diag(A)\n",
    "end"
   ]
  },
  {
   "cell_type": "markdown",
   "metadata": {},
   "source": [
    "#### qralgorithmのテストプログラム\n",
    "- 以下のテストプログラムを実行してすべて**Test Passed**になることを確認\n",
    "- **Test Failed** が出たら結果が計算が間違っているので関数を修正"
   ]
  },
  {
   "cell_type": "code",
   "execution_count": null,
   "metadata": {},
   "outputs": [],
   "source": [
    "for k = 1:10\n",
    "    s = rand(1:10)\n",
    "    A = rand(s, s)\n",
    "    A = A * A' # 固有値をすべて実数にするため\n",
    "    eigenvalues = eigvals(A)\n",
    "    println(@test  sort(qralgorithm(A)) ≈ sort(eigenvalues))\n",
    "end"
   ]
  },
  {
   "cell_type": "markdown",
   "metadata": {},
   "source": [
    "## 課題2: べき乗法\n",
    "\n",
    "- $x_{k+1} = \\frac{A x_{k}}{||A x_{k}||}$ を繰り返す\n",
    "- $x_\\infty$ は絶対値が最大となる固有値に対する固有ベクトル\n",
    "- 固有ベクトル $x$ に対応する固有値はレイリー商で算出\n",
    "$$\n",
    "\\lambda = \\frac{v^T A v}{v^T v}\n",
    "$$"
   ]
  },
  {
   "cell_type": "markdown",
   "metadata": {},
   "source": [
    "### 課題2-1\n",
    "- べき乗法によって固有値を求める関数 powermethod を作成せよ\n",
    "- 関数が作成できたらテストを実行して **Test Passed** になることを確認せよ\n",
    "- 関数がきちんとできていない場合 **Test Failed** が出力されるので **Test Passed**になるように修正せよ"
   ]
  },
  {
   "cell_type": "markdown",
   "metadata": {},
   "source": [
    "### powermethodの説明\n",
    "- 引数\n",
    "    - A: 正方行列（2次元配列）\n",
    "- 戻り値\n",
    "    - lambda1: 最大固有値\n",
    "    - x: 固有ベクトル\n",
    "- 関数内の変数\n",
    "    - lambda1, lambda2: 固有値\n",
    "    - err: 固有値の相対誤差"
   ]
  },
  {
   "cell_type": "code",
   "execution_count": null,
   "metadata": {},
   "outputs": [],
   "source": [
    "function powermethod(A)\n",
    "    x = fill(1.0, size(A)[1])\n",
    "    err = 1.0\n",
    "    lambda1 = dot(x, A * x) / dot(x,x)\n",
    "    while err > 1.0e-10\n",
    "        # コードを記述\n",
    "        # (1) Ax として x を更新\n",
    "        # (2) x を norm(x) で正規化\n",
    "        lambda2 = dot(x, A * x) / dot(x,x)\n",
    "        err = abs(lambda2 - lambda1)/abs(lambda1)\n",
    "        lambda1 = lambda2\n",
    "    end\n",
    "    (lambda1, x)\n",
    "end"
   ]
  },
  {
   "cell_type": "markdown",
   "metadata": {},
   "source": [
    "#### powermethodのテストプログラム\n",
    "- 以下のテストプログラムを実行してすべて**Test Passed**になることを確認\n",
    "- **Test Failed** が出たら結果が計算が間違っているので関数を修正"
   ]
  },
  {
   "cell_type": "code",
   "execution_count": null,
   "metadata": {},
   "outputs": [],
   "source": [
    "for k = 1:10\n",
    "    s = rand(1:10)\n",
    "    A = rand(s, s)\n",
    "    A = A * A' # 固有値をすべて実数にするため\n",
    "    lambda, x = powermethod(A)\n",
    "    maxeigen = eigmax(A)\n",
    "    println(@test  maxeigen ≈ lambda)\n",
    "end"
   ]
  },
  {
   "cell_type": "markdown",
   "metadata": {},
   "source": [
    "## 課題3: 逆べき乗法\n",
    "\n",
    "- $x_{k+1} = \\frac{A^{-1} x_{k}}{||A x_{k}||}$ を繰り返す\n",
    "- $x_\\infty$ は絶対値が最小となる固有値に対する固有ベクトル\n",
    "- 固有ベクトル $x$ に対応する固有値はレイリー商で算出\n",
    "$$\n",
    "\\lambda = \\frac{v^T A v}{v^T v}\n",
    "$$"
   ]
  },
  {
   "cell_type": "markdown",
   "metadata": {},
   "source": [
    "### 課題3-1\n",
    "- 後退代入によって上三角行列 $U$ と定数ベクトル $b$ からなる連立方程式を解く関数 backsolve を完成させよ\n",
    "- 関数が作成できたらテストを実行して **Test Passed** になることを確認せよ\n",
    "- 関数がきちんとできていない場合 **Test Failed** が出力されるので **Test Passed**になるように backsolve を修正せよ"
   ]
  },
  {
   "cell_type": "markdown",
   "metadata": {},
   "source": [
    "#### backsolveの説明\n",
    "- 引数\n",
    "    - U: 上三角行列（2次元配列）\n",
    "    - b: 定数ベクトル\n",
    "- 戻り値\n",
    "    - x: $Ux=b$を満たす解"
   ]
  },
  {
   "cell_type": "code",
   "execution_count": null,
   "metadata": {},
   "outputs": [],
   "source": [
    "function backsolve(U, b)\n",
    "    n = length(b)\n",
    "    x = zeros(n) # x をゼロで初期化\n",
    "    for i = n:-1:1 # i = n, n-1, ..., 1 の順番でforループ\n",
    "        x[i] = b[i] \n",
    "        ### Uの非対角要素 U[i,j] に対する処理\n",
    "        for j = n:-1:i+1 # j = n, n-1, ..., i+2, i+1 の順番でforループ\n",
    "            ## ここに適切なコードを記述\n",
    "        end\n",
    "        ### Uの対角要素 U[i,i] に対する処理\n",
    "            ## ここに適切なコードを記述\n",
    "    end\n",
    "    return x\n",
    "end"
   ]
  },
  {
   "cell_type": "markdown",
   "metadata": {},
   "source": [
    "#### backsolveのテストプログラム\n",
    "- backsolve が作成できたら以下のテストプログラムを実行してすべて**Test Passed**になることを確認\n",
    "- **Test Failed** が出たら結果が計算が間違っているのでbacksolveを修正"
   ]
  },
  {
   "cell_type": "code",
   "execution_count": null,
   "metadata": {},
   "outputs": [],
   "source": [
    "for k = 1:10\n",
    "    s = rand(1:10)\n",
    "    U = triu(rand(s,s))\n",
    "    b = rand(s)\n",
    "    println(@test backsolve(U, b) ≈ U \\ b)\n",
    "end"
   ]
  },
  {
   "cell_type": "markdown",
   "metadata": {},
   "source": [
    "### 課題3-2\n",
    "- 逆べき乗法によって固有値を求める関数 invpowermethod を作成せよ\n",
    "- 関数が作成できたらテストを実行して **Test Passed** になることを確認せよ\n",
    "- 関数がきちんとできていない場合 **Test Failed** が出力されるので **Test Passed**になるように修正せよ"
   ]
  },
  {
   "cell_type": "markdown",
   "metadata": {},
   "source": [
    "### invpowermethodの説明\n",
    "- 引数\n",
    "    - A: 正方行列（2次元配列）\n",
    "- 戻り値\n",
    "    - lambda1: 最小固有値\n",
    "    - x: 固有ベクトル\n",
    "- 関数内の変数\n",
    "    - Q, R: AのQR分解\n",
    "    - lambda1, lambda2: 固有値\n",
    "    - err: 固有値の相対誤差"
   ]
  },
  {
   "cell_type": "code",
   "execution_count": null,
   "metadata": {},
   "outputs": [],
   "source": [
    "function invpowermethod(A)\n",
    "    x = fill(1.0, size(A)[1])\n",
    "    err = 1.0\n",
    "    Q, R = qr2(A) # LU分解でも良い\n",
    "    lambda1 = dot(x, A*x) / dot(x,x)\n",
    "    while err > 1.0e-10\n",
    "        # コードを記述\n",
    "        # (1) Q, R, backsolve を使って A^{-1}x として x を更新\n",
    "        # (2) x を norm(x) で正規化\n",
    "        lambda2 =dot(x, A*x) / dot(x,x)\n",
    "        err =  abs(lambda2 - lambda1)/abs(lambda1)\n",
    "        lambda1 = lambda2\n",
    "    end\n",
    "    return (lambda1, x)\n",
    "end\n"
   ]
  },
  {
   "cell_type": "markdown",
   "metadata": {},
   "source": [
    "#### invpowermethodのテストプログラム\n",
    "- 以下のテストプログラムを実行してすべて**Test Passed**になることを確認\n",
    "- **Test Failed** が出たら結果が計算が間違っているので関数を修正"
   ]
  },
  {
   "cell_type": "code",
   "execution_count": null,
   "metadata": {},
   "outputs": [],
   "source": [
    "for k = 1:10\n",
    "    s = rand(1:10)\n",
    "    A = rand(s, s)\n",
    "    A = A * A' # 固有値をすべて実数にするため\n",
    "    lambda, x = invpowermethod(A)\n",
    "    maxeigen = eigmin(A)\n",
    "    println(@test  maxeigen ≈ lambda)\n",
    "end"
   ]
  }
 ],
 "metadata": {
  "kernelspec": {
   "display_name": "Julia 1.3.0",
   "language": "julia",
   "name": "julia-1.3"
  },
  "language_info": {
   "file_extension": ".jl",
   "mimetype": "application/julia",
   "name": "julia",
   "version": "1.3.0"
  }
 },
 "nbformat": 4,
 "nbformat_minor": 2
}
