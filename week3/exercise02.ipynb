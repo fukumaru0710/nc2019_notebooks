{
 "cells": [
  {
   "cell_type": "markdown",
   "metadata": {},
   "source": [
    "# 課題（連立方程式，LU分解，QR分解）\n",
    "\n",
    "- すべての課題を実行せよ\n",
    "- すべての課題が完了したら Jupyter の File メニューから Download as -> HTML (.html) として結果をダウンロードし， Bb9 の「課題」からファイル添付で提出せよ"
   ]
  },
  {
   "cell_type": "code",
   "execution_count": null,
   "metadata": {},
   "outputs": [],
   "source": [
    "# 初期化なので最初に実行してください\n",
    "using Test\n",
    "using LinearAlgebra"
   ]
  },
  {
   "cell_type": "markdown",
   "metadata": {},
   "source": [
    "## 課題1: 後退代入\n",
    "\n",
    "- 上三角行列 $U$ と定数ベクトル $b$ に対する下記の連立方程式は $x_n, x_{n-1}, \\ldots, x_{1}$ の順番で効率良く解くことができる．これを後退代入（back substitution）を言う．\n",
    "$$\n",
    "U x = b\n",
    "$$\n"
   ]
  },
  {
   "cell_type": "markdown",
   "metadata": {},
   "source": [
    "### 課題1-1\n",
    "- 後退代入によって上三角行列 $U$ と定数ベクトル $b$ からなる連立方程式を解く関数 backsolve を完成させよ\n",
    "- 関数が作成できたらテストを実行して **Test Passed** になることを確認せよ\n",
    "- 関数がきちんとできていない場合 **Test Failed** が出力されるので **Test Passed**になるように backsolve を修正せよ"
   ]
  },
  {
   "cell_type": "markdown",
   "metadata": {},
   "source": [
    "#### backsolveの説明\n",
    "- 引数\n",
    "    - U: 上三角行列（2次元配列）\n",
    "    - b: 定数ベクトル\n",
    "- 戻り値\n",
    "    - x: $Ux=b$を満たす解\n",
    "- 関数内の変数\n",
    "    - U[i,j]: 行列 $U$ の $i,j$ 要素\n",
    "    - b[i]: ベクトル $b$ の $i$ 要素\n",
    "    - x[i]: ベクトル $x$ の $i$ 要素\n",
    "    - n: 未知数の数（ベクトル$b$の長さから取得）"
   ]
  },
  {
   "cell_type": "code",
   "execution_count": null,
   "metadata": {},
   "outputs": [],
   "source": [
    "function backsolve(U, b)\n",
    "    n = length(b)\n",
    "    x = zeros(n) # x をゼロで初期化\n",
    "    for i = n:-1:1 # i = n, n-1, ..., 1 の順番でforループ\n",
    "        x[i] = b[i] \n",
    "        ### Uの非対角要素 U[i,j] に対する処理\n",
    "        for j = n:-1:i+1 # j = n, n-1, ..., i+2, i+1 の順番でforループ\n",
    "            ## ここに適切なコードを記述\n",
    "        end\n",
    "        ### Uの対角要素 U[i,i] に対する処理\n",
    "            ## ここに適切なコードを記述\n",
    "    end\n",
    "    return x\n",
    "end"
   ]
  },
  {
   "cell_type": "markdown",
   "metadata": {},
   "source": [
    "#### backsolveのテストプログラム\n",
    "- backsolve が作成できたら以下のテストプログラムを実行してすべて**Test Passed**になることを確認\n",
    "- **Test Failed** が出たら結果が計算が間違っているのでbacksolveを修正"
   ]
  },
  {
   "cell_type": "code",
   "execution_count": null,
   "metadata": {},
   "outputs": [],
   "source": [
    "for k = 1:10\n",
    "    s = rand(1:10)\n",
    "    U = triu(rand(s,s))\n",
    "    b = rand(s)\n",
    "    println(@test backsolve(U, b) ≈ U \\ b)\n",
    "end"
   ]
  },
  {
   "cell_type": "markdown",
   "metadata": {},
   "source": [
    "### 課題1-2\n",
    "- 関数 backsolve で未知数の数が $n=3$ のときに必要な乗除算と加減算の総数を示せ"
   ]
  },
  {
   "cell_type": "markdown",
   "metadata": {},
   "source": [
    "#### 課題1-2の解答\n",
    "\n",
    "- ダブルクリックして Markdown を編集して表に値を記入\n",
    "- 記入後は `Shift+Enter`\n",
    "\n",
    "|乗除算|加減算|\n",
    "|:---:|:---:|\n",
    "| 0  | 0 | <!-- ここに記入 -->"
   ]
  },
  {
   "cell_type": "markdown",
   "metadata": {},
   "source": [
    "## 課題2: 前進消去とガウスの消去法\n",
    "\n",
    "- 一般連立方程式 $Ax=b$ の行列 $A$, ベクトル $b$ からなる拡大係数行列 $[A b]$ に基本変形を施して行列 $A$ を上三角行列にする操作を前進消去（forward elimination）と言う\n",
    "- 前進消去で作成した上三角行列に関する連立方程式を後退代入で解く手法をガウスの消去法（Gaussian elimination）と言う"
   ]
  },
  {
   "cell_type": "markdown",
   "metadata": {},
   "source": [
    "### forward!の説明\n",
    "    - ! は引数の値を変更する関数につける\n",
    "- 引数\n",
    "    - A: 行列（2次元配列）\n",
    "    - b: 定数ベクトル\n",
    "- 戻り値\n",
    "    - なし（A, bが直接書き換わる）\n",
    "- 関数内の変数\n",
    "    - A[i,j]: 行列 $A$ の $i,j$ 要素\n",
    "    - b[i]: ベクトル $b$ の $i$ 要素\n",
    "    - n: 未知数の数（ベクトル$b$の長さから取得）\n",
    "    - s: 一時的に値を入れる変数"
   ]
  },
  {
   "cell_type": "code",
   "execution_count": null,
   "metadata": {},
   "outputs": [],
   "source": [
    "function forward!(A, b) ## この関数はA, bの値を書き換える\n",
    "    n = length(b)\n",
    "    for i = 1:n\n",
    "        # i 行目を A[i,i] で割る\n",
    "        s = A[i,i]\n",
    "        for j = i:n\n",
    "            A[i,j] /= s\n",
    "        end\n",
    "        b[i] /= s\n",
    "        # k = i+1 から n 行目の i 番目要素を0にする\n",
    "        for k = i+1:n\n",
    "            s = A[k,i]\n",
    "            for j = 1:i\n",
    "                A[k,j] = 0.0\n",
    "            end\n",
    "            for j = i+1:n\n",
    "                A[k,j] -= A[i,j] * s\n",
    "            end\n",
    "            b[k] -= b[i] * s\n",
    "        end\n",
    "    end\n",
    "end"
   ]
  },
  {
   "cell_type": "markdown",
   "metadata": {},
   "source": [
    "### 課題2-1\n",
    "- 関数 forward! で未知数の数が $n=3$ のときに必要な乗除算と加減算の総数を示せ"
   ]
  },
  {
   "cell_type": "markdown",
   "metadata": {},
   "source": [
    "#### 課題2-1の解答\n",
    "\n",
    "- ダブルクリックして Markdown を編集して表に値を記入\n",
    "- 記入後は `Shift+Enter`\n",
    "\n",
    "|乗除算|加減算|\n",
    "|:---:|:---:|\n",
    "| 0 | 0 |"
   ]
  },
  {
   "cell_type": "markdown",
   "metadata": {},
   "source": [
    "### 課題2-2\n",
    "- forward!を実行してみる"
   ]
  },
  {
   "cell_type": "code",
   "execution_count": null,
   "metadata": {},
   "outputs": [],
   "source": [
    "## 乱数で5x5の行列Aとベクトルbを作成\n",
    "A = rand(5,5)\n",
    "b = 　rand(5)\n",
    "display(A)\n",
    "display(b)\n",
    "\n",
    "## forward!の実行\n",
    "## 副作用（引数の値が変化する）があるのでtmpA, tmpbにコピーして実行\n",
    "tmpA = copy(A)\n",
    "tmpb = copy(b)\n",
    "forward!(tmpA, tmpb)\n",
    "display(tmpA)\n",
    "display(tmpb)"
   ]
  },
  {
   "cell_type": "markdown",
   "metadata": {},
   "source": [
    "### gesolveの説明\n",
    "- 引数\n",
    "    - A: 行列（2次元配列）\n",
    "    - b: 定数ベクトル\n",
    "- 戻り値\n",
    "    - x: Ax=bの解\n",
    "- 関数内の変数\n",
    "    - tmpA: 行列 $A$ のコピー\n",
    "    - tmpb: ベクトル $b$ のコピー"
   ]
  },
  {
   "cell_type": "code",
   "execution_count": null,
   "metadata": {},
   "outputs": [],
   "source": [
    "function gesolve(A, b)\n",
    "    tmpA = copy(A)\n",
    "    tmpb = copy(b)\n",
    "    forward!(tmpA, tmpb)\n",
    "    backsolve(tmpA, tmpb) # 最後に評価したものが戻り値になる\n",
    "end"
   ]
  },
  {
   "cell_type": "markdown",
   "metadata": {},
   "source": [
    "### 課題2-3\n",
    "- ガウスの消去法で連立方程式を解く関数 gesolve と組込のソルバーを比較\n",
    "- それぞれで得た解 x1, x2 の誤差 r1, r2 を算出\n",
    "    - 違いがあるかないか，違いがあるならなぜ違いが生じたのか考察\n",
    "- 連立方程式の誤差の定義： $Ax-b$ を計算して絶対値が 0 に近いかどうか\n",
    "$$\n",
    "r = max|A x - b|\n",
    "$$"
   ]
  },
  {
   "cell_type": "code",
   "execution_count": null,
   "metadata": {},
   "outputs": [],
   "source": [
    "## A, b の表示\n",
    "n = 100\n",
    "A = rand(n,n)\n",
    "b = rand(n)\n",
    "\n",
    "## gesolve による解 x1, Julia 標準による解 x2\n",
    "x1 = gesolve(A, b)\n",
    "x2 = A \\ b\n",
    "\n",
    "## 誤差を計算\n",
    "r1 = maximum(abs.(A*x1-b))\n",
    "r2 = maximum(abs.(A*x2-b))\n",
    "display(r1)\n",
    "display(r2)"
   ]
  },
  {
   "cell_type": "markdown",
   "metadata": {},
   "source": [
    "#### 課題2-3の解答\n",
    "- 考察はこのセルに記述（ダブルクリックしてMarkdownで記述してから Shift+Enter）"
   ]
  },
  {
   "cell_type": "markdown",
   "metadata": {},
   "source": [
    "## 課題3：前進消去その２\n",
    "- A が正方行列でない場合は不定（解が一つに定まらない）や不能（解がない）になることが多い\n",
    "- forward!を実行して不能の場合に前進消去した結果がどのようになるか検証せよ"
   ]
  },
  {
   "cell_type": "markdown",
   "metadata": {},
   "source": [
    "### forward!の説明\n",
    "- 引数\n",
    "    - A: 行列（2次元配列）\n",
    "    - b: 定数ベクトル\n",
    "- 戻り値\n",
    "    - なし（A, bが直接書き換わる）\n",
    "- 関数内の変数\n",
    "    - A[i,j]: 行列 $A$ の $i,j$ 要素\n",
    "    - b[i]: ベクトル $b$ の $i$ 要素\n",
    "    - m: 条件式の数（行列$A$の行数から取得）\n",
    "    - n: 未知数の数（行列$A$の列数から取得）\n",
    "    - s: 一時的に値を入れる変数"
   ]
  },
  {
   "cell_type": "code",
   "execution_count": null,
   "metadata": {},
   "outputs": [],
   "source": [
    "## forward! でAが (m, n) 行列の場合に対応させる\n",
    "function forward!(A, b)\n",
    "    m,n = size(A)\n",
    "    for i = 1:min(m,n)\n",
    "        s = A[i,i]\n",
    "        for j = i:n\n",
    "            A[i,j] /= s\n",
    "        end\n",
    "        b[i] /= s\n",
    "        for k = i+1:m\n",
    "            s = A[k,i]\n",
    "            for j = 1:i\n",
    "                A[k,j] = 0.0\n",
    "            end\n",
    "            for j = i+1:n\n",
    "                A[k,j] -= A[i,j] * s\n",
    "            end\n",
    "            b[k] -= b[i] * s\n",
    "        end\n",
    "    end\n",
    "end"
   ]
  },
  {
   "cell_type": "markdown",
   "metadata": {},
   "source": [
    "### 課題3-1\n",
    "- 前のforward!と比べて変更があったところをすべて挙げよ"
   ]
  },
  {
   "cell_type": "markdown",
   "metadata": {},
   "source": [
    "#### 課題3-1の解答\n",
    "- n=length(b) から m,n = size(A) に変わった\n",
    "- etc."
   ]
  },
  {
   "cell_type": "markdown",
   "metadata": {},
   "source": [
    "### 課題3-2\n",
    "- 不能（解なし）となる連立方程式を作成せよ"
   ]
  },
  {
   "cell_type": "code",
   "execution_count": null,
   "metadata": {},
   "outputs": [],
   "source": [
    "## 行列 A, ベクトル b の定義: 値は1.0のように小数表記\n",
    "A = [\n",
    "    ## 適当な行列を作成\n",
    "]\n",
    "b = [] ## 適当なベクトルを作成\n",
    "\n",
    "## rank関数を使って解があるかどうか判定\n",
    "if rank(A) == rank([A b])\n",
    "    println(\"解あり\")\n",
    "else\n",
    "    println(\"解なし\")\n",
    "end"
   ]
  },
  {
   "cell_type": "markdown",
   "metadata": {},
   "source": [
    "### 課題3-3\n",
    "- 課題3-2で定義したA, b に対してforward!を実行せよ\n",
    "- forward!の実行結果からrank関数を使わずに「不能」を判定するためにはどうしたらよいか処理の方針を記述せよ"
   ]
  },
  {
   "cell_type": "code",
   "execution_count": null,
   "metadata": {},
   "outputs": [],
   "source": [
    "## forward!の実行\n",
    "tmpA = copy(A)\n",
    "tmpb = copy(b)\n",
    "forward!(tmpA, tmpb)\n",
    "display(tmpA)\n",
    "display(tmpb)"
   ]
  },
  {
   "cell_type": "markdown",
   "metadata": {},
   "source": [
    "#### 課題3-3の解答\n",
    "- 考察はこのセルに記述（ダブルクリックしてMarkdownで記述してから `Shift+Enter`）"
   ]
  },
  {
   "cell_type": "markdown",
   "metadata": {},
   "source": [
    "## 課題4: 直交化とQR分解\n",
    "- 線型空間上にあるベクトルの組から互いに直交するベクトルの組を生成することを直交化（Orthogonalization）と言う．\n",
    "- グラム・シュミットの直交化法\n",
    "    - 与えられたベクトルの組 $v_1, v_2, \\ldots, v_n$ から互いに直交し，かつ長さ1のベクトルの組 $u_1, u_2, \\ldots, u_n$ を生成する\n",
    "- 行列 $A$ を直交行列 $Q$ と上三角行列 $R$ に分解する手法を OR 分解（QR decomposition）と言う\n",
    "$$\n",
    "A = QR\n",
    "$$"
   ]
  },
  {
   "cell_type": "markdown",
   "metadata": {},
   "source": [
    "### cgs (Classical Gram–Schmidt orthonormalization) の説明\n",
    "- 引数\n",
    "    - A: m行n列の行列,　n個のベクトルの組\n",
    "- 戻り値\n",
    "    - Q: m行n列の行列，n個の正規直交ベクトルの組\n",
    "- 関数内の変数\n",
    "    - A[:,j]: 行列 $A$ の $j$ 列目のベクトル\n",
    "    - Q[:,j]: 行列 $Q$ の $j$ 列目のベクトル\n",
    "    - m: ベクトルの次元\n",
    "    - n: ベクトルの本数\n",
    "    - w: 内積を一時的に格納する変数"
   ]
  },
  {
   "cell_type": "code",
   "execution_count": null,
   "metadata": {},
   "outputs": [],
   "source": [
    "function cgs(A)\n",
    "    m,n = size(A)\n",
    "    Q = copy(A)  # Aのコピーを作成\n",
    "    Q[:,1] /= norm(Q[:,1]) # Q[:,1]のノルムで全体を割る\n",
    "    for k = 2:n\n",
    "        for i = 1:k-1\n",
    "            w = dot(Q[:,i], A[:,k]) # すでにできている正規直交基底 Q[:,1], ..., Q[:k-1] と A[:,k] の内積を計算\n",
    "            Q[:,k] -= w * Q[:,i]\n",
    "        end\n",
    "        Q[:,k] /= norm(Q[:,k])\n",
    "    end\n",
    "    return Q\n",
    "end"
   ]
  },
  {
   "cell_type": "markdown",
   "metadata": {},
   "source": [
    "### 課題4-1\n",
    "- 関数 cgs で行列 $A$ が 3 行 3 列のときに必要な乗除算と加減算の総数を示せ．ただし，normそのものの計算に必要な乗除算と加減算の回数は除く"
   ]
  },
  {
   "cell_type": "markdown",
   "metadata": {},
   "source": [
    "#### 課題4-1の解答\n",
    "\n",
    "- ダブルクリックして Markdown を編集して表に値を記入\n",
    "- 記入後は `Shift+Enter`\n",
    "\n",
    "|乗除算|加減算|\n",
    "|:---:|:---:|\n",
    "| 0 | 0 |"
   ]
  },
  {
   "cell_type": "markdown",
   "metadata": {},
   "source": [
    "### 課題4-2\n",
    "- 関数 cgs を実行して直交行列Qを得よ\n",
    "- Q' * Q を計算し，その結果を誤差の観点から考察せよ"
   ]
  },
  {
   "cell_type": "code",
   "execution_count": null,
   "metadata": {},
   "outputs": [],
   "source": [
    "A = rand(5,5) ## 適当な行列を作成\n",
    "Q = cgs(A) ## 直交化した行列を作成\n",
    "B = Q' * Q ## 転置した行列との積\n",
    "display(B)"
   ]
  },
  {
   "cell_type": "markdown",
   "metadata": {},
   "source": [
    "#### 課題4-2の解答\n",
    "\n",
    "- 考察はこのセルに記述（ダブルクリックしてMarkdownで記述してから Shift+Enter）"
   ]
  },
  {
   "cell_type": "markdown",
   "metadata": {},
   "source": [
    "### qr2 の説明\n",
    "- 引数\n",
    "    - A: m行n列の行列\n",
    "- 戻り値\n",
    "    - Q: 互いに直交するn個の列ベクトルからなる行列．m行n列の行列\n",
    "    - R: n行n列の上三角行列\n",
    "- 関数内の変数\n",
    "    - A[:,j]: 行列 $A$ の $j$ 列目のベクトル\n",
    "    - Q[:,j]: 行列 $Q$ の $j$ 列目のベクトル\n",
    "    - R[i,j]: 行列 $R$ の $i,j$ 要素\n",
    "    - m: 行数\n",
    "    - n: 列数"
   ]
  },
  {
   "cell_type": "code",
   "execution_count": null,
   "metadata": {},
   "outputs": [],
   "source": [
    "function qr2(A)\n",
    "    m,n = size(A)\n",
    "    Q = copy(A)  # Aのコピーを作成\n",
    "    R = zeros(n,n)\n",
    "    R[1,1] = norm(Q[:,1])\n",
    "    Q[:,1] /= R[1,1]\n",
    "    for k = 2:n\n",
    "        for i = 1:k-1\n",
    "            R[i,k] = dot(Q[:,i], A[:,k])\n",
    "            Q[:,k] -= R[i,k] * Q[:,i]\n",
    "        end\n",
    "        R[k,k] = norm(Q[:,k])\n",
    "        Q[:,k] /= R[k,k]\n",
    "    end\n",
    "    return (Q,R)\n",
    "end"
   ]
  },
  {
   "cell_type": "markdown",
   "metadata": {},
   "source": [
    "### 課題4-3\n",
    "- cgsとqr2を比較して変更があったところをすべて挙げよ"
   ]
  },
  {
   "cell_type": "markdown",
   "metadata": {},
   "source": [
    "#### 課題4-3の解答\n",
    "- R = zeros(n,n)を追加\n",
    "- etc."
   ]
  },
  {
   "cell_type": "markdown",
   "metadata": {},
   "source": [
    "### 課題4-4\n",
    "- qr2 を用いて QR 分解を実行せよ"
   ]
  },
  {
   "cell_type": "code",
   "execution_count": null,
   "metadata": {},
   "outputs": [],
   "source": [
    "## QR分解をやってみる\n",
    "A = rand(5,5)\n",
    "Q, R = qr2(A)\n",
    "display(Q)\n",
    "display(R)"
   ]
  },
  {
   "cell_type": "markdown",
   "metadata": {},
   "source": [
    "### 課題4-5\n",
    "- backsolveとqr2を利用してQR分解で連立方程式を解く関数 qrsolve を作成せよ\n",
    "- 関数が作成できたらテストを実行して **Test Passed** になることを確認せよ\n",
    "- 関数がきちんとできていない場合 **Test Failed** が出力されるので **Test Passed**になるように関数を修正せよ"
   ]
  },
  {
   "cell_type": "markdown",
   "metadata": {},
   "source": [
    "#### qrsolveの説明\n",
    "- 引数\n",
    "    - A: 正方行列（2次元配列）\n",
    "    - b: 定数ベクトル\n",
    "- 戻り値\n",
    "    - x: Ax=bの解"
   ]
  },
  {
   "cell_type": "code",
   "execution_count": null,
   "metadata": {},
   "outputs": [],
   "source": [
    "## qrsolveの定義\n",
    "function qrsolve(A, b)\n",
    "    ## ここにコードを記述\n",
    "end"
   ]
  },
  {
   "cell_type": "markdown",
   "metadata": {},
   "source": [
    "#### 課題4-4のテストプログラム\n",
    "- qrsolve が作成できたら以下のテストプログラムを実行してすべて**Test Passed**になることを確認してください\n",
    "- **Test Failed** が出たら結果が計算が間違っているので修正してください"
   ]
  },
  {
   "cell_type": "code",
   "execution_count": null,
   "metadata": {},
   "outputs": [],
   "source": [
    "for k = 1:10\n",
    "    s = rand(1:10)\n",
    "    A = rand(s,s)\n",
    "    b = rand(s)\n",
    "    println(@test qrsolve(A, b) ≈ A \\ b)\n",
    "end"
   ]
  }
 ],
 "metadata": {
  "kernelspec": {
   "display_name": "Julia 1.3.0",
   "language": "julia",
   "name": "julia-1.3"
  },
  "language_info": {
   "file_extension": ".jl",
   "mimetype": "application/julia",
   "name": "julia",
   "version": "1.3.0"
  }
 },
 "nbformat": 4,
 "nbformat_minor": 2
}
