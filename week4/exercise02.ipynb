{
 "cells": [
  {
   "cell_type": "markdown",
   "metadata": {},
   "source": [
    "# 課題（QR分解）\n",
    "\n",
    "- すべての課題を実行せよ\n",
    "- すべての課題が完了したら Jupyter の File メニューから Download as -> Markdown (.md) として結果をダウンロードし， Bb9 の「課題」からファイル添付で提出せよ"
   ]
  },
  {
   "cell_type": "code",
   "execution_count": null,
   "metadata": {},
   "outputs": [],
   "source": [
    "# 初期化なので最初に実行してください\n",
    "using Test\n",
    "using LinearAlgebra"
   ]
  },
  {
   "cell_type": "markdown",
   "metadata": {},
   "source": [
    "## 課題4: 直交化とQR分解\n",
    "- 線型空間上にあるベクトルの組から互いに直交するベクトルの組を生成することを直交化（Orthogonalization）と言う．\n",
    "- グラム・シュミットの直交化法\n",
    "    - 与えられたベクトルの組 $v_1, v_2, \\ldots, v_n$ から互いに直交し，かつ長さ1のベクトルの組 $u_1, u_2, \\ldots, u_n$ を生成する\n",
    "- 行列 $A$ を直交行列 $Q$ と上三角行列 $R$ に分解する手法を OR 分解（QR decomposition）と言う\n",
    "$$\n",
    "A = QR\n",
    "$$"
   ]
  },
  {
   "cell_type": "markdown",
   "metadata": {},
   "source": [
    "### cgs (Classical Gram–Schmidt orthonormalization) の説明\n",
    "- 引数\n",
    "    - A: m行n列の行列,　n個のベクトルの組\n",
    "- 戻り値\n",
    "    - Q: m行n列の行列，n個の正規直交ベクトルの組\n",
    "- 関数内の変数\n",
    "    - A[:,j]: 行列 $A$ の $j$ 列目のベクトル\n",
    "    - Q[:,j]: 行列 $Q$ の $j$ 列目のベクトル\n",
    "    - m: ベクトルの次元\n",
    "    - n: ベクトルの本数\n",
    "    - w: 内積を一時的に格納する変数"
   ]
  },
  {
   "cell_type": "code",
   "execution_count": null,
   "metadata": {},
   "outputs": [],
   "source": [
    "function cgs(A)\n",
    "    m,n = size(A)\n",
    "    Q = copy(A)  # Aのコピーを作成\n",
    "    Q[:,1] /= norm(Q[:,1]) # Q[:,1]のノルムで全体を割る\n",
    "    for k = 2:n\n",
    "        for i = 1:k-1\n",
    "            w = dot(Q[:,i], A[:,k]) # すでにできている正規直交基底 Q[:,1], ..., Q[:k-1] と A[:,k] の内積を計算\n",
    "            Q[:,k] -= w * Q[:,i]\n",
    "        end\n",
    "        Q[:,k] /= norm(Q[:,k])\n",
    "    end\n",
    "    return Q\n",
    "end"
   ]
  },
  {
   "cell_type": "markdown",
   "metadata": {},
   "source": [
    "### 課題4-1\n",
    "- 関数 cgs で行列 $A$ が 3 行 3 列のときに必要な乗除算と加減算の総数を示せ．ただし，normそのものの計算に必要な乗除算と加減算の回数は除く"
   ]
  },
  {
   "cell_type": "markdown",
   "metadata": {},
   "source": [
    "#### 課題4-1の解答\n",
    "\n",
    "- ダブルクリックして Markdown を編集して表に値を記入\n",
    "- 記入後は `Shift+Enter`\n",
    "\n",
    "|乗除算|加減算|\n",
    "|:---:|:---:|\n",
    "| 0 | 0 |"
   ]
  },
  {
   "cell_type": "markdown",
   "metadata": {},
   "source": [
    "### 課題4-2\n",
    "- 関数 cgs を実行して直交行列Qを得よ\n",
    "- Q' * Q を計算し，その結果を誤差の観点から考察せよ"
   ]
  },
  {
   "cell_type": "code",
   "execution_count": null,
   "metadata": {},
   "outputs": [],
   "source": [
    "A = rand(5,5) ## 適当な行列を作成\n",
    "Q = cgs(A) ## 直交化した行列を作成\n",
    "B = Q' * Q ## 転置した行列との積\n",
    "display(B)"
   ]
  },
  {
   "cell_type": "markdown",
   "metadata": {},
   "source": [
    "#### 課題4-2の解答\n",
    "\n",
    "- 考察はこのセルに記述（ダブルクリックしてMarkdownで記述してから Shift+Enter）"
   ]
  },
  {
   "cell_type": "markdown",
   "metadata": {},
   "source": [
    "### qr2 の説明\n",
    "- 引数\n",
    "    - A: m行n列の行列\n",
    "- 戻り値\n",
    "    - Q: 互いに直交するn個の列ベクトルからなる行列．m行n列の行列\n",
    "    - R: n行n列の上三角行列\n",
    "- 関数内の変数\n",
    "    - A[:,j]: 行列 $A$ の $j$ 列目のベクトル\n",
    "    - Q[:,j]: 行列 $Q$ の $j$ 列目のベクトル\n",
    "    - R[i,j]: 行列 $R$ の $i,j$ 要素\n",
    "    - m: 行数\n",
    "    - n: 列数"
   ]
  },
  {
   "cell_type": "code",
   "execution_count": null,
   "metadata": {},
   "outputs": [],
   "source": [
    "function qr2(A)\n",
    "    m,n = size(A)\n",
    "    Q = copy(A)  # Aのコピーを作成\n",
    "    R = zeros(n,n)\n",
    "    R[1,1] = norm(Q[:,1])\n",
    "    Q[:,1] /= R[1,1]\n",
    "    for k = 2:n\n",
    "        for i = 1:k-1\n",
    "            R[i,k] = dot(Q[:,i], A[:,k])\n",
    "            Q[:,k] -= R[i,k] * Q[:,i]\n",
    "        end\n",
    "        R[k,k] = norm(Q[:,k])\n",
    "        Q[:,k] /= R[k,k]\n",
    "    end\n",
    "    return (Q,R)\n",
    "end"
   ]
  },
  {
   "cell_type": "markdown",
   "metadata": {},
   "source": [
    "### 課題4-3\n",
    "- cgsとqr2を比較して変更があったところをすべて挙げよ"
   ]
  },
  {
   "cell_type": "markdown",
   "metadata": {},
   "source": [
    "#### 課題4-3の解答\n",
    "- R = zeros(n,n)を追加\n",
    "- etc."
   ]
  },
  {
   "cell_type": "markdown",
   "metadata": {},
   "source": [
    "### 課題4-4\n",
    "- qr2 を用いて QR 分解を実行せよ"
   ]
  },
  {
   "cell_type": "code",
   "execution_count": null,
   "metadata": {},
   "outputs": [],
   "source": [
    "## QR分解をやってみる\n",
    "A = rand(5,5)\n",
    "Q, R = qr2(A)\n",
    "display(Q)\n",
    "display(R)"
   ]
  },
  {
   "cell_type": "markdown",
   "metadata": {},
   "source": [
    "### 課題4-5\n",
    "- backsolveとqr2を利用してQR分解で連立方程式を解く関数 qrsolve を作成せよ\n",
    "- 関数が作成できたらテストを実行して **Test Passed** になることを確認せよ\n",
    "- 関数がきちんとできていない場合 **Test Failed** が出力されるので **Test Passed**になるように関数を修正せよ"
   ]
  },
  {
   "cell_type": "markdown",
   "metadata": {},
   "source": [
    "#### qrsolveの説明\n",
    "- 引数\n",
    "    - A: 正方行列（2次元配列）\n",
    "    - b: 定数ベクトル\n",
    "- 戻り値\n",
    "    - x: Ax=bの解"
   ]
  },
  {
   "cell_type": "code",
   "execution_count": null,
   "metadata": {},
   "outputs": [],
   "source": [
    "## qrsolveの定義\n",
    "function qrsolve(A, b)\n",
    "    ## ここにコードを記述\n",
    "end"
   ]
  },
  {
   "cell_type": "markdown",
   "metadata": {},
   "source": [
    "#### 課題4-4のテストプログラム\n",
    "- qrsolve が作成できたら以下のテストプログラムを実行してすべて**Test Passed**になることを確認してください\n",
    "- **Test Failed** が出たら結果が計算が間違っているので修正してください"
   ]
  },
  {
   "cell_type": "code",
   "execution_count": null,
   "metadata": {},
   "outputs": [],
   "source": [
    "for k = 1:10\n",
    "    s = rand(1:10)\n",
    "    A = rand(s,s)\n",
    "    b = rand(s)\n",
    "    println(@test qrsolve(A, b) ≈ A \\ b)\n",
    "end"
   ]
  }
 ],
 "metadata": {
  "kernelspec": {
   "display_name": "Julia 1.3.0",
   "language": "julia",
   "name": "julia-1.3"
  },
  "language_info": {
   "file_extension": ".jl",
   "mimetype": "application/julia",
   "name": "julia",
   "version": "1.3.0"
  }
 },
 "nbformat": 4,
 "nbformat_minor": 2
}
