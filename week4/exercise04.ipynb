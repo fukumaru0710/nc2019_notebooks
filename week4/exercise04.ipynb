{
 "cells": [
  {
   "cell_type": "markdown",
   "metadata": {},
   "source": [
    "# 課題（疎行列）\n",
    "\n",
    "- すべての課題を実行せよ\n",
    "- すべての課題が完了したら Jupyter の File メニューから Download as -> Markdown (.md) として結果をダウンロードし， Bb9 の「課題」からファイル添付で提出せよ"
   ]
  },
  {
   "cell_type": "code",
   "execution_count": null,
   "metadata": {},
   "outputs": [],
   "source": [
    "# 初期化なので最初に実行してください\n",
    "include(\"../lib/SparseMatrix.jl\")\n",
    "using LinearAlgebra\n",
    "using .SparseMatrix\n",
    "using Test\n",
    "using Printf"
   ]
  },
  {
   "cell_type": "markdown",
   "metadata": {},
   "source": [
    "**注意**: この演習で使う SparseMatrix パッケージは自作パッケージなので無保証です．一般の計算で疎行列を使う場合は using SparseArrays として Julia が提供しているものを利用してください．ただし，現時点で SparseArrays には CSC しかないです"
   ]
  },
  {
   "cell_type": "markdown",
   "metadata": {},
   "source": [
    "## 課題1\n",
    "- 疎行列をあつかうデータ構造 CSR, CSC, COO を確認し 5 x 5 の行列のとき， 変数配列の大きさをそれぞれ求め必要なバイト数を答えよ"
   ]
  },
  {
   "cell_type": "code",
   "execution_count": null,
   "metadata": {},
   "outputs": [],
   "source": [
    "# 疎行列を作成\n",
    "A = sprand(5, 5, 0.5, Matrix)\n",
    "display(A)\n",
    "println(typeof(A))"
   ]
  },
  {
   "cell_type": "markdown",
   "metadata": {},
   "source": [
    "### 課題1-1: A で使っているバイト数を計算\n",
    "\n",
    "- 以下の表の？を埋めよ\n",
    "\n",
    "| 変数 | 要素数 | 型 | 一つの要素に必要なバイト数 | バイト数 |\n",
    "|:---:|:---:|:---:|:---:|:---:|\n",
    "| A | ? | Flotat64 | ? | ? |\n",
    "| 合計| --- | --- | --- | ? |"
   ]
  },
  {
   "cell_type": "code",
   "execution_count": null,
   "metadata": {},
   "outputs": [],
   "source": [
    "# CSRデータ構造\n",
    "csr = SparseCSR(A)\n",
    "println(typeof(csr))\n",
    "println(csr.rowptr)\n",
    "println(csr.colind)\n",
    "println(csr.val)"
   ]
  },
  {
   "cell_type": "markdown",
   "metadata": {},
   "source": [
    "### 課題1-2: `csr` で使っているバイト数を計算\n",
    "\n",
    "| 変数 | 要素数 | 型 | 一つの要素に必要なバイト数 | バイト数 |\n",
    "|:---:|:---:|:---:|:---:|:---:|\n",
    "| rowptr | ? | Int64 | ? | ? |\n",
    "| colind | ? | Int64 | ? | ? |\n",
    "| val | ? | Flotat64 | ? | ? |\n",
    "| 合計| --- | --- | --- | ? |"
   ]
  },
  {
   "cell_type": "code",
   "execution_count": null,
   "metadata": {},
   "outputs": [],
   "source": [
    "# CSCデータ構造\n",
    "csc = SparseCSC(A)\n",
    "println(typeof(csc))\n",
    "println(csc.colptr)\n",
    "println(csc.rowind)\n",
    "println(csc.val)"
   ]
  },
  {
   "cell_type": "markdown",
   "metadata": {},
   "source": [
    "### 課題1-3: `csc` で使っているバイト数を計算\n",
    "\n",
    "| 変数 | 要素数 | 型 | 一つの要素に必要なバイト数 | バイト数 |\n",
    "|:---:|:---:|:---:|:---:|:---:|\n",
    "| colptr | ? | Int64 | ? | ? |\n",
    "| rowind | ? | Int64 | ? | ? |\n",
    "| val | ? | Flotat64 | ? | ? |\n",
    "| 合計| --- | --- | --- | ? |"
   ]
  },
  {
   "cell_type": "code",
   "execution_count": null,
   "metadata": {},
   "outputs": [],
   "source": [
    "# COOデータ構造\n",
    "coo = SparseCOO(A)\n",
    "println(typeof(coo))\n",
    "println(coo.rowind)\n",
    "println(coo.colind)\n",
    "println(coo.val)"
   ]
  },
  {
   "cell_type": "markdown",
   "metadata": {},
   "source": [
    "### 課題1-4: `coo` で使っているバイト数を計算\n",
    "\n",
    "| 変数 | 要素数 | 型 | 一つの要素に必要なバイト数 | バイト数 |\n",
    "|:---:|:---:|:---:|:---:|:---:|\n",
    "| rowind | ? | Int64 | ? | ? |\n",
    "| colind | ? | Int64 | ? | ? |\n",
    "| val | ? | Flotat64 | ? | ? |\n",
    "| 合計| --- | --- | --- | ? |"
   ]
  },
  {
   "cell_type": "markdown",
   "metadata": {},
   "source": [
    "### 課題1-5\n",
    "- CSR, CSC, COO それぞれで n x n 行列で必要なバイト数が密行列より小さくなる最大の要素数を求めよ\n",
    "\n",
    "| n | データフォーマット | 要素数 |\n",
    "|:---:|:---:|:---:|\n",
    "| n=5 | CSR | ? |\n",
    "| n=5 | CSC | ? |\n",
    "| n=5 | COO | ? |\n",
    "| n=10 | CSR | ? |\n",
    "| n=10 | CSC | ? |\n",
    "| n=10 | COO | ? |"
   ]
  },
  {
   "cell_type": "markdown",
   "metadata": {},
   "source": [
    "## 課題2\n",
    "- 行列・ベクトル積の計算量を求める"
   ]
  },
  {
   "cell_type": "markdown",
   "metadata": {},
   "source": [
    "### 課題2-1\n",
    "- 下記の CSR用，CSC用，COO用のspmul を完成させよ"
   ]
  },
  {
   "cell_type": "markdown",
   "metadata": {},
   "source": [
    "### spmul の説明\n",
    "- 引数\n",
    "    - A: m行n列の疎行列\n",
    "    - x: n 要素のベクトル\n",
    "- 戻り値\n",
    "    - A * x の結果\n",
    "- 関数内の変数\n",
    "    - m: 行数\n",
    "    - n: 列数\n",
    "    - i: 行のインデックスを示す\n",
    "    - j: 列のインデックスを示す\n",
    "    - z: 何番目の非零要素かを示す"
   ]
  },
  {
   "cell_type": "code",
   "execution_count": null,
   "metadata": {},
   "outputs": [],
   "source": [
    "# CSR用\n",
    "function spmul(A::SparseCSR, x)\n",
    "    m, n = size(A)\n",
    "    y = zeros(m)\n",
    "    for i = 1:m\n",
    "        for z = A.rowptr[i]:A.rowptr[i+1]-1\n",
    "            j = A.colind[z]\n",
    "            # ここに適切なコードを記述\n",
    "        end\n",
    "    end\n",
    "    return y\n",
    "end"
   ]
  },
  {
   "cell_type": "code",
   "execution_count": null,
   "metadata": {},
   "outputs": [],
   "source": [
    "# CSC用\n",
    "function spmul(A::SparseCSC, x)\n",
    "    m, n = size(A)\n",
    "    y = zeros(m)\n",
    "    for j = 1:n\n",
    "        for z = A.colptr[j]:A.colptr[j+1]-1\n",
    "            i = A.rowind[z]\n",
    "            # ここに適切なコードを記述\n",
    "        end\n",
    "    end\n",
    "    return y\n",
    "end"
   ]
  },
  {
   "cell_type": "code",
   "execution_count": null,
   "metadata": {},
   "outputs": [],
   "source": [
    "# COO用\n",
    "function spmul(A::SparseCOO, x)\n",
    "    m, n = size(A)\n",
    "    y = zeros(m)\n",
    "    for z = 1:nnz(A)\n",
    "        i = A.rowind[z]\n",
    "        j = A.colind[z]\n",
    "       # ここに適切なコードを記述\n",
    "    end\n",
    "    return y\n",
    "end"
   ]
  },
  {
   "cell_type": "markdown",
   "metadata": {},
   "source": [
    "#### spmulのテストプログラム\n",
    "- 作成できたら以下のテストプログラムを実行してすべて**Test Passed**になることを確認\n",
    "- **Test Failed** が出たら結果が計算が間違っているので修正"
   ]
  },
  {
   "cell_type": "code",
   "execution_count": null,
   "metadata": {},
   "outputs": [],
   "source": [
    "for k = 1:10\n",
    "    m = rand(1:10)\n",
    "    n = rand(1:10)\n",
    "    p = rand()\n",
    "    t = rand([SparseCSR, SparseCSC, SparseCOO])\n",
    "    A = sprandn(m, n, p, t)\n",
    "    x = rand(n)\n",
    "    println(@test spmul(A, x) == A * x)\n",
    "end"
   ]
  },
  {
   "cell_type": "markdown",
   "metadata": {},
   "source": [
    "### 課題2-1\n",
    "- 以下の行列Aとベクトルxの積 Ax を行ったとき，spmul 内での乗除算，加減算の回数を数えよ\n",
    "$$\n",
    "A = \\begin{pmatrix}\n",
    "1.0 & 0.0 & 0.0 \\\\\n",
    "0.0 & 1.0 & 1.0 \\\\\n",
    "1.0 & 1.0 & 1.0 \\\\\n",
    "0.0 & 1.0 & 0.0 \\\\\n",
    "1.0 & 0.0 & 1.0 \\\\\n",
    "\\end{pmatrix}, \\quad\n",
    "x = \\begin{pmatrix}\n",
    "1.0 \\\\\n",
    "0.0 \\\\\n",
    "1.0\n",
    "\\end{pmatrix}.\n",
    "$$"
   ]
  },
  {
   "cell_type": "markdown",
   "metadata": {},
   "source": [
    "### 課題2-1の解答\n",
    "\n",
    "| フォーマット | 乗除算 | 加減算 |\n",
    "|:-------:|:-------:|:-------:|\n",
    "| 密行列 | ? | ? |\n",
    "| CSR |   ?     |     ?    |\n",
    "| CSR |   ?     |     ?    |\n",
    "| CSC |   ?     |     ?    |\n",
    "| COO |   ?     |     ?    |"
   ]
  },
  {
   "cell_type": "markdown",
   "metadata": {},
   "source": [
    "# 課題3\n",
    "- power method を行い密行列と疎行列の速度を比較する"
   ]
  },
  {
   "cell_type": "markdown",
   "metadata": {},
   "source": [
    "### 課題3-1（前にやった課題ですがもう一度やってください）\n",
    "- べき乗法によって固有値を求める関数 powermethod を作成せよ\n",
    "- 関数が作成できたらテストを実行して **Test Passed** になることを確認せよ\n",
    "- 関数がきちんとできていない場合 **Test Failed** が出力されるので **Test Passed**になるように修正せよ"
   ]
  },
  {
   "cell_type": "markdown",
   "metadata": {},
   "source": [
    "### powermethodの説明（再掲）\n",
    "- 引数\n",
    "    - A: 正方行列（2次元配列）\n",
    "- 戻り値\n",
    "    - lambda1: 最大固有値\n",
    "    - x: 固有ベクトル\n",
    "- 関数内の変数\n",
    "    - lambda1, lambda2: 固有値\n",
    "    - err: 固有値の相対誤差"
   ]
  },
  {
   "cell_type": "code",
   "execution_count": null,
   "metadata": {},
   "outputs": [],
   "source": [
    "function powermethod(A)\n",
    "    x = fill(1.0, size(A)[1])\n",
    "    err = 1.0\n",
    "    lambda1 = dot(x, A * x) / dot(x,x)\n",
    "    while err > 1.0e-10\n",
    "        # コードを記述\n",
    "        # (1) Ax として x を更新\n",
    "        # (2) x を norm(x) で正規化\n",
    "        lambda2 = dot(x, A * x) / dot(x,x)\n",
    "        err = abs(lambda2 - lambda1)/abs(lambda1)\n",
    "        lambda1 = lambda2\n",
    "    end\n",
    "    (lambda1, x)\n",
    "end"
   ]
  },
  {
   "cell_type": "markdown",
   "metadata": {},
   "source": [
    "#### powermethodのテストプログラム\n",
    "- 以下のテストプログラムを実行してすべて**Test Passed**になることを確認\n",
    "- **Test Failed** が出たら結果が計算が間違っているので関数を修正"
   ]
  },
  {
   "cell_type": "code",
   "execution_count": null,
   "metadata": {},
   "outputs": [],
   "source": [
    "for k = 1:10\n",
    "    s = rand(1:10)\n",
    "    A = rand(s, s)\n",
    "    A = A * A' # 固有値をすべて実数にするため\n",
    "    lambda, x = powermethod(A)\n",
    "    maxeigen = eigmax(A)\n",
    "    println(@test  maxeigen ≈ lambda)\n",
    "end"
   ]
  },
  {
   "cell_type": "markdown",
   "metadata": {},
   "source": [
    "### 課題3-2\n",
    "- 密行列，疎行列それぞれで最大固有値を得るまでの実行時間を計測し，速度に関する考察を行え"
   ]
  },
  {
   "cell_type": "markdown",
   "metadata": {},
   "source": [
    "### genmatrixの説明\n",
    "- 概要\n",
    "    - 固有値が実数の 100 x 100 の密行列とそれに対するCSRフォーマットの行列をランダムに生成する\n",
    "- 引数\n",
    "    - p: 非零要素のおおよそ割合（0 から 1 の間の値）\n",
    "- 戻り値\n",
    "    - (d, A, spa)\n",
    "        - d: 非零要素の密度（パーセンテージ）\n",
    "        - A: 密行列\n",
    "        - spA: 疎行列（CSRフォーマット）\n",
    "- 関数内の変数\n",
    "    - G: 100 x 100 の行列"
   ]
  },
  {
   "cell_type": "code",
   "execution_count": null,
   "metadata": {},
   "outputs": [],
   "source": [
    "# 行列を作成し，非零要素の密度を測定\n",
    "function genmatrix(p)\n",
    "    G=sprandn(100, 100, p, Matrix)\n",
    "    A = G' * G # 固有値を実数にするため\n",
    "    spA = SparseCSR(A)\n",
    "    (nnz(spA)/length(A)*100, A, spA) # (密度，密行列，疎行列)\n",
    "end"
   ]
  },
  {
   "cell_type": "code",
   "execution_count": null,
   "metadata": {},
   "outputs": [],
   "source": [
    "# 実験（必ず二回実行してください）\n",
    "for p in 0.01:0.01:0.2\n",
    "    d, A, spA = genmatrix(p)\n",
    "    y1 = @elapsed(powermethod(A))\n",
    "    y2 = @elapsed(powermethod(spA))\n",
    "    @printf(\"密度　%.2f%%\\t密行列 %f\\t疎行列　%f\\n\", d, y1, y2)\n",
    "end"
   ]
  },
  {
   "cell_type": "markdown",
   "metadata": {},
   "source": [
    "### 考察\n",
    "\n",
    "ここに考察を記入してください"
   ]
  }
 ],
 "metadata": {
  "kernelspec": {
   "display_name": "Julia 1.3.0",
   "language": "julia",
   "name": "julia-1.3"
  },
  "language_info": {
   "file_extension": ".jl",
   "mimetype": "application/julia",
   "name": "julia",
   "version": "1.3.0"
  }
 },
 "nbformat": 4,
 "nbformat_minor": 2
}
