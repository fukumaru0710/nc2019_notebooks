{
 "cells": [
  {
   "cell_type": "code",
   "execution_count": 1,
   "metadata": {},
   "outputs": [
    {
     "name": "stdout",
     "output_type": "stream",
     "text": [
      "  Building Conda ──→ `~/.julia/packages/Conda/kLXeC/deps/build.log`\n",
      "  Building ZMQ ────→ `~/.julia/packages/ZMQ/ABGOx/deps/build.log`\n",
      "  Building MbedTLS → `~/.julia/packages/MbedTLS/a1JFn/deps/build.log`\n",
      "  Building IJulia ─→ `~/.julia/packages/IJulia/F1GUo/deps/build.log`\n"
     ]
    }
   ],
   "source": [
    "!julia -e \"using Pkg; pkg\\\"build IJulia\\\"\""
   ]
  },
  {
   "cell_type": "code",
   "execution_count": null,
   "metadata": {},
   "outputs": [],
   "source": [
    "!git pull"
   ]
  },
  {
   "cell_type": "code",
   "execution_count": null,
   "metadata": {},
   "outputs": [],
   "source": []
  }
 ],
 "metadata": {
  "kernelspec": {
   "display_name": "Python 3",
   "language": "python",
   "name": "python3"
  },
  "language_info": {
   "codemirror_mode": {
    "name": "ipython",
    "version": 3
   },
   "file_extension": ".py",
   "mimetype": "text/x-python",
   "name": "python",
   "nbconvert_exporter": "python",
   "pygments_lexer": "ipython3",
   "version": "3.6.7"
  }
 },
 "nbformat": 4,
 "nbformat_minor": 2
}
