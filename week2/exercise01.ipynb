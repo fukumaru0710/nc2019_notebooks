{
 "cells": [
  {
   "cell_type": "markdown",
   "metadata": {},
   "source": [
    "## 計算速度の計測\n",
    "\n",
    "- 数値計算で基本的な演算となる浮動小数点の加減乗除算の速度比較を行う．\n",
    "- 乱数で10000個のデータを作成"
   ]
  },
  {
   "cell_type": "code",
   "execution_count": null,
   "metadata": {},
   "outputs": [],
   "source": [
    "## 加算\n",
    "function f1(data)\n",
    "    tmp = 0.0\n",
    "    for x in data\n",
    "        tmp += x\n",
    "    end\n",
    "    tmp\n",
    "end"
   ]
  },
  {
   "cell_type": "code",
   "execution_count": null,
   "metadata": {},
   "outputs": [],
   "source": [
    "## 減算\n",
    "function f2(data)\n",
    "    tmp = 0.0\n",
    "    for x in data\n",
    "        tmp -= x\n",
    "    end\n",
    "    tmp\n",
    "end"
   ]
  },
  {
   "cell_type": "code",
   "execution_count": null,
   "metadata": {},
   "outputs": [],
   "source": [
    "## 乗算\n",
    "function f3(data)\n",
    "    tmp = 1.0\n",
    "    for x in data\n",
    "        tmp *= x\n",
    "    end\n",
    "    tmp\n",
    "end"
   ]
  },
  {
   "cell_type": "code",
   "execution_count": null,
   "metadata": {},
   "outputs": [],
   "source": [
    "## 除算\n",
    "function f4(data)\n",
    "    tmp = 1.0\n",
    "    for x in data\n",
    "        tmp /= x\n",
    "    end\n",
    "    tmp\n",
    "end"
   ]
  },
  {
   "cell_type": "code",
   "execution_count": null,
   "metadata": {},
   "outputs": [],
   "source": [
    "data = exp.(randn(10000))　# データの作成\n",
    ";"
   ]
  },
  {
   "cell_type": "code",
   "execution_count": null,
   "metadata": {},
   "outputs": [],
   "source": [
    "@time f1(data)\n",
    "@time f1(data)"
   ]
  },
  {
   "cell_type": "code",
   "execution_count": null,
   "metadata": {},
   "outputs": [],
   "source": [
    "@time f2(data)\n",
    "@time f2(data)"
   ]
  },
  {
   "cell_type": "code",
   "execution_count": null,
   "metadata": {},
   "outputs": [],
   "source": [
    "@time f3(data)\n",
    "@time f3(data)"
   ]
  },
  {
   "cell_type": "code",
   "execution_count": null,
   "metadata": {},
   "outputs": [],
   "source": [
    "@time f4(data)\n",
    "@time f4(data)"
   ]
  },
  {
   "cell_type": "code",
   "execution_count": null,
   "metadata": {},
   "outputs": [],
   "source": []
  }
 ],
 "metadata": {
  "kernelspec": {
   "display_name": "Julia 1.3.0",
   "language": "julia",
   "name": "julia-1.3"
  },
  "language_info": {
   "file_extension": ".jl",
   "mimetype": "application/julia",
   "name": "julia",
   "version": "1.3.0"
  }
 },
 "nbformat": 4,
 "nbformat_minor": 2
}
