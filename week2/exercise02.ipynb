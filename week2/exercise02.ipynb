{
 "cells": [
  {
   "cell_type": "markdown",
   "metadata": {},
   "source": [
    "## 累乗および多項式の計算例\n",
    "\n",
    "- 累乗の効率的な計算方法を知る\n",
    "- 多項式の効率的な計算方法を知る\n",
    "- アルゴリズムにより計算量および計算速度が変わることを理解する"
   ]
  },
  {
   "cell_type": "markdown",
   "metadata": {},
   "source": [
    "### 累乗：素朴なアルゴリズム\n",
    "- $x^n$ を求めるのに for 文を使って x を n 回かける"
   ]
  },
  {
   "cell_type": "code",
   "execution_count": null,
   "metadata": {},
   "outputs": [],
   "source": [
    "function pow1(x, n)\n",
    "    answer = 1.0\n",
    "    for i = 1:n\n",
    "        answer *= x\n",
    "    end\n",
    "    answer\n",
    "end"
   ]
  },
  {
   "cell_type": "markdown",
   "metadata": {},
   "source": [
    "### 累乗：効率的なアルゴリズム\n",
    "- $y_0 = 1, y_1 = x, y_2 = y_1^2, y_3=y_2^2, \\ldots$ とする\n",
    "- $x^n$ を求めるのに $n = b_0 2^0 + b_1 2^1 + b_2 2^2 + \\cdots$ と展開（$b_2 b_1 b_0$ は $n$ の2進表現）して$b_n=1$のとき$y_n$をかける"
   ]
  },
  {
   "cell_type": "code",
   "execution_count": null,
   "metadata": {},
   "outputs": [],
   "source": [
    "function pow2(x, n)\n",
    "    answer = 1.0\n",
    "    while n != 0\n",
    "        if n % 2 == 1\n",
    "            answer *= x\n",
    "        end\n",
    "        x *= x\n",
    "        n >>= 1\n",
    "    end\n",
    "    answer\n",
    "end"
   ]
  },
  {
   "cell_type": "markdown",
   "metadata": {},
   "source": [
    "### 多項式の計算: 素朴なアルゴリズム１\n",
    "\n",
    "- $n$次多項式 $p_n(x) = a_n x^n + a_{n-1} x^{n-1} + \\cdots + a_1 x + a_0$ を求める\n",
    "- $a_n x^n$ を毎回計算して足す"
   ]
  },
  {
   "cell_type": "code",
   "execution_count": null,
   "metadata": {},
   "outputs": [],
   "source": [
    "function poly1(x, n, a) 　　　　　　　　　　　　　　　　　　　　　　　　　　# a は a[1] から a[n+1] までの配列\n",
    "answer = 0.0\n",
    "    for i = n:-1:0 　　　　　　　　　　　　　　　　　　　　　　　　　　　　　　　　　　　　　# i は n から 0 まで変化\n",
    "        answer += a[i+1] * pow1(x, i) 　　　　　# 配列の添え字が a[1] からのため i+1 としている\n",
    "    end\n",
    "    answer\n",
    "end"
   ]
  },
  {
   "cell_type": "markdown",
   "metadata": {},
   "source": [
    "### 多項式の計算: 素朴なアルゴリズム２\n",
    "\n",
    "- $n$次多項式 $p_n(x) = a_n x^n + a_{n-1} x^{n-1} + \\cdots + a_1 x + a_0$ を求める\n",
    "- $a_n x^n$ を毎回計算して足す\n",
    "- pow2を使う"
   ]
  },
  {
   "cell_type": "code",
   "execution_count": null,
   "metadata": {},
   "outputs": [],
   "source": [
    "function poly2(x, n, a) 　　　　　　　　　　　　　　　　　　　　　　　　　　# a は a[1] から a[n+1] までの配列\n",
    "answer = 0.0\n",
    "    for i = n:-1:0 　　　　　　　　　　　　　　　　　　　　　　　　　　　　　　　　　　　　　# i は n から 0 まで変化\n",
    "        answer += a[i+1] * pow2(x, i) 　　　　　# 配列の添え字が a[1] からのため i+1 としている\n",
    "    end\n",
    "    answer\n",
    "end"
   ]
  },
  {
   "cell_type": "markdown",
   "metadata": {},
   "source": [
    "### 多項式の計算: 少し気の利いたアルゴリズム１\n",
    "\n",
    "- $n$次多項式 $p_n(x) = a_n x^n + a_{n-1} x^{n-1} + \\cdots + a_1 x + a_0$ を求める\n",
    "- $x^n$ の計算は全部やらないといけないので　$y_0 = 1$, $y_1=x$, $y_2=x^2$, ... として $a_n y_n$ を足していく"
   ]
  },
  {
   "cell_type": "code",
   "execution_count": null,
   "metadata": {},
   "outputs": [],
   "source": [
    "function poly3(x, n, a) 　　　　　　　　　　　　　　　　　　　　　　　　　# a は a[1] から a[n+1] までの配列\n",
    "    answer = a[1] 　　　　　　　　　　　　　　　　　　　　　　　　　　　　　　　　　　# a_0 を代入\n",
    "    y = 1.0\n",
    "    for i = 1:n　　　　　　　　　　　　　　　　　　　　　　　　　　　　　　　　　　　　　　　　　　# i は 1 から n まで変化\n",
    "        y *= x 　　　　　　　　　　　　　　　　　　　　　　　　　　　　　　　　　　　　　　　　　　　# y の値が x^1, x^2, ... と変化\n",
    "        answer += a[i+1] * y 　　　　　　　　　　　　　　　　　　　# 配列の添え字が a[1] からのため i+1 としている\n",
    "    end\n",
    "    answer\n",
    "end"
   ]
  },
  {
   "cell_type": "markdown",
   "metadata": {},
   "source": [
    "### 多項式の計算: 少し気の利いたアルゴリズム２（ホーナー法）\n",
    "\n",
    "- $n$次多項式 $p_n(x) = a_n x^n + a_{n-1} x^{n-1} + \\cdots + a_1 x + a_0$ を求める\n",
    "- $p_n(x) = ((a_n x + a_{n-1}) x + a_{n-2}) x + a_{n-3} \\cdots$ と計算する\n",
    "- 乗算が1つ減る"
   ]
  },
  {
   "cell_type": "code",
   "execution_count": null,
   "metadata": {},
   "outputs": [],
   "source": [
    "function poly4(x, n, a)                          # a は a[1] から a[n+1] までの配列\n",
    "    answer = 0.0                                     #  a_n を代入\n",
    "    for i = n:-1:0                                     #  i は n から 0 まで変化\n",
    "        answer = answer * x + a[i+1]     # 配列の添え字が a[1] からのため i+1 としている\n",
    "    end\n",
    "    answer\n",
    "end"
   ]
  },
  {
   "cell_type": "markdown",
   "metadata": {},
   "source": [
    "### 速度比較：累乗\n",
    "- $x=0.9999$\n",
    "- $n=100000$\n",
    "- 初回はJITコンパイルが入るので，それぞれ2回実行して2回目の時間を計測"
   ]
  },
  {
   "cell_type": "code",
   "execution_count": null,
   "metadata": {},
   "outputs": [],
   "source": [
    "@time pow1(0.9999, 100000)\n",
    "@time pow1(0.9999, 100000)"
   ]
  },
  {
   "cell_type": "code",
   "execution_count": null,
   "metadata": {},
   "outputs": [],
   "source": [
    "@time pow2(0.9999, 100000)\n",
    "@time pow2(0.9999, 100000)"
   ]
  },
  {
   "cell_type": "markdown",
   "metadata": {},
   "source": [
    "## 速度比較：多項式\n",
    "- x = 0.99\n",
    "- n = 10000\n",
    "- a: ランダム\n",
    "\n",
    "- 初回はJITコンパイルが入るので，それぞれ2回実行して2回目の時間を計測"
   ]
  },
  {
   "cell_type": "code",
   "execution_count": null,
   "metadata": {},
   "outputs": [],
   "source": [
    "x = 0.99\n",
    "n = 10000\n",
    "a = rand(n+1)\n",
    ";"
   ]
  },
  {
   "cell_type": "code",
   "execution_count": null,
   "metadata": {},
   "outputs": [],
   "source": [
    "@time poly1(x,n,a)\n",
    "@time poly1(x, n, a)"
   ]
  },
  {
   "cell_type": "code",
   "execution_count": null,
   "metadata": {},
   "outputs": [],
   "source": [
    "@time poly2(x,n,a)\n",
    "@time poly2(x, n, a)"
   ]
  },
  {
   "cell_type": "code",
   "execution_count": null,
   "metadata": {},
   "outputs": [],
   "source": [
    "@time poly3(x, n, a)\n",
    "@time poly3(x, n, a)"
   ]
  },
  {
   "cell_type": "code",
   "execution_count": null,
   "metadata": {},
   "outputs": [],
   "source": [
    "@time poly4(x, n, a)\n",
    "@time poly4(x, n, a)"
   ]
  },
  {
   "cell_type": "code",
   "execution_count": null,
   "metadata": {},
   "outputs": [],
   "source": []
  }
 ],
 "metadata": {
  "kernelspec": {
   "display_name": "Julia 1.3.0",
   "language": "julia",
   "name": "julia-1.3"
  },
  "language_info": {
   "file_extension": ".jl",
   "mimetype": "application/julia",
   "name": "julia",
   "version": "1.3.0"
  }
 },
 "nbformat": 4,
 "nbformat_minor": 2
}
