{
 "cells": [
  {
   "cell_type": "markdown",
   "metadata": {},
   "source": [
    "# 丸め誤差の例\n",
    "\n",
    "- 丸め誤差が累積して大きな誤差になる\n",
    "- 数値 0.01 を数多く（n 回）加算する"
   ]
  },
  {
   "cell_type": "code",
   "execution_count": null,
   "metadata": {},
   "outputs": [],
   "source": [
    "# 0.01をn回加算する関数\n",
    "\n",
    "function sumn(n)\n",
    "    s = 0.0\n",
    "    for i = 1:n\n",
    "        s += 0.01\n",
    "    end\n",
    "    return s\n",
    "end"
   ]
  },
  {
   "cell_type": "code",
   "execution_count": null,
   "metadata": {},
   "outputs": [],
   "source": [
    "# n=10000 回加算したときの絶対誤差と相対誤差\n",
    "\n",
    "n = 10000\n",
    "alpha = 0.01 * n # より厳密に近い値\n",
    "x = sumn(n)  # n 回加算した結果\n",
    "abserr = abs(x - alpha) # 絶対誤差\n",
    "relerr = abs(((x - alpha) / alpha)) # 相対誤差\n",
    "\n",
    "println(alpha)\n",
    "println(x)\n",
    "println(abserr)\n",
    "println(relerr)"
   ]
  },
  {
   "cell_type": "code",
   "execution_count": null,
   "metadata": {},
   "outputs": [],
   "source": []
  }
 ],
 "metadata": {
  "kernelspec": {
   "display_name": "Julia 1.1.0",
   "language": "julia",
   "name": "julia-1.1"
  },
  "language_info": {
   "file_extension": ".jl",
   "mimetype": "application/julia",
   "name": "julia",
   "version": "1.1.0"
  }
 },
 "nbformat": 4,
 "nbformat_minor": 2
}
