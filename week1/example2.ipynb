{
 "cells": [
  {
   "cell_type": "markdown",
   "metadata": {},
   "source": [
    "# 情報落ちの例\n",
    "\n",
    "- スケールの違う二つの加減算で，一方の値が小さすぎて（有効桁で０）反映されない\n",
    "- Float32 -> 有効桁約7桁\n",
    "- 例１：$10^7$　に 1.0 を 50 回加算する\n",
    "- 例２：$10^8$　に 1.0 を 50 回加算する"
   ]
  },
  {
   "cell_type": "code",
   "execution_count": null,
   "metadata": {},
   "outputs": [],
   "source": [
    "using Printf"
   ]
  },
  {
   "cell_type": "code",
   "execution_count": null,
   "metadata": {},
   "outputs": [],
   "source": [
    "# 例1: プログラミング演習3 第７回の例を Julia 言語で記述\n",
    "\n",
    "function example1()\n",
    "    a1::Float32 = 1.0e+7  # Float32; 単精度浮動小数点, デフォルトではFloat64になるため型を指定\n",
    "    @printf(\"a1 = %f\\n\", a1)\n",
    "    for i = 1:50\n",
    "        a1 += 1.0\n",
    "        @printf(\"a1[%3d]\\t%f\\n\", i, a1)\n",
    "    end\n",
    "end"
   ]
  },
  {
   "cell_type": "code",
   "execution_count": null,
   "metadata": {},
   "outputs": [],
   "source": [
    "## 実行\n",
    "example1()"
   ]
  },
  {
   "cell_type": "code",
   "execution_count": null,
   "metadata": {},
   "outputs": [],
   "source": [
    "# 例２ プログラミング演習3 第７回の例を Julia 言語で記述\n",
    "\n",
    "function example2()\n",
    "    a1::Float32 = 1.0e+8  # Float32; 単精度浮動小数点\n",
    "    @printf(\"a1 = %f\\n\", a1)\n",
    "    for i = 1:50\n",
    "        a1 += 1.0\n",
    "        @printf(\"a1[%3d]\\t%f\\n\", i, a1)\n",
    "    end\n",
    "end"
   ]
  },
  {
   "cell_type": "code",
   "execution_count": null,
   "metadata": {},
   "outputs": [],
   "source": [
    "# 実行\n",
    "example2()"
   ]
  },
  {
   "cell_type": "code",
   "execution_count": null,
   "metadata": {},
   "outputs": [],
   "source": []
  }
 ],
 "metadata": {
  "kernelspec": {
   "display_name": "Julia 1.1.0",
   "language": "julia",
   "name": "julia-1.1"
  },
  "language_info": {
   "file_extension": ".jl",
   "mimetype": "application/julia",
   "name": "julia",
   "version": "1.1.0"
  }
 },
 "nbformat": 4,
 "nbformat_minor": 2
}
