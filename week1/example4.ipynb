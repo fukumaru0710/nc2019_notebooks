{
 "cells": [
  {
   "cell_type": "markdown",
   "metadata": {},
   "source": [
    "# 桁落ちの例\n",
    "\n",
    "- 近い値の減算を行うことで有効桁が減る\n",
    "- Float32 -> 有効桁約7桁\n",
    "- 例：$\\sqrt{1001} - \\sqrt{1000}$ と $1 / (\\sqrt{1001} + \\sqrt{1000}) $を計算して比較"
   ]
  },
  {
   "cell_type": "markdown",
   "metadata": {},
   "source": [
    "$$\n",
    "\\sqrt{1001} - \\sqrt{1000} = \\frac{(\\sqrt{1001} - \\sqrt{1000})(\\sqrt{1001} + \\sqrt{1000})}{\\sqrt{1001} + \\sqrt{1000}} \\\\\n",
    "= \\frac{1001 - 1000}{\\sqrt{1001} + \\sqrt{1000}} \\\\\n",
    "= \\frac{1}{\\sqrt{1001} + \\sqrt{1000}}\n",
    "$$"
   ]
  },
  {
   "cell_type": "code",
   "execution_count": null,
   "metadata": {},
   "outputs": [],
   "source": [
    "using Printf"
   ]
  },
  {
   "cell_type": "code",
   "execution_count": null,
   "metadata": {},
   "outputs": [],
   "source": [
    "# 例: プログラミング演習3 第７回の例を Julia 言語で記述\n",
    "\n",
    "function example()\n",
    "    b::Float32 = sqrt(Float32(1001)) ## 単精度 Float32 を引数とするとディスパッチにより -> sqrtf を利用した結果と同じになる\n",
    "    c::Float32 = sqrt(Float32(1000))\n",
    "    @printf(\"b = %e = %.8f\\n\", b, b)\n",
    "    @printf(\"c = %e = %.8f\\n\", c, c)\n",
    "    @printf(\"b-c = %e = %.8f\\n\", b-c, b-c)\n",
    "    @printf(\"b-c(2)= %e = %.8f\\n\", 1/(b+c), 1/(b+c));\n",
    "end"
   ]
  },
  {
   "cell_type": "code",
   "execution_count": null,
   "metadata": {},
   "outputs": [],
   "source": [
    "# 実行\n",
    "example()"
   ]
  },
  {
   "cell_type": "code",
   "execution_count": null,
   "metadata": {},
   "outputs": [],
   "source": []
  }
 ],
 "metadata": {
  "kernelspec": {
   "display_name": "Julia 1.1.0",
   "language": "julia",
   "name": "julia-1.1"
  },
  "language_info": {
   "file_extension": ".jl",
   "mimetype": "application/julia",
   "name": "julia",
   "version": "1.1.0"
  }
 },
 "nbformat": 4,
 "nbformat_minor": 2
}
