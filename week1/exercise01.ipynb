{
 "cells": [
  {
   "cell_type": "markdown",
   "metadata": {},
   "source": [
    "## 課題\n",
    "\n",
    "- 次の課題1,2,3のプログラムを作成せよ\n",
    "- 課題1, 2, 3 まで完成したら Jupyter の File メニューから Download as -> HTML (.html) として結果をダウンロードし， Bb9 の「課題」からファイル添付で提出せよ"
   ]
  },
  {
   "cell_type": "code",
   "execution_count": null,
   "metadata": {},
   "outputs": [],
   "source": [
    "# 初期化なので最初に実行してください\n",
    "using Test\n",
    "using LinearAlgebra"
   ]
  },
  {
   "cell_type": "markdown",
   "metadata": {},
   "source": [
    "### 課題1\n",
    "- ベクトルの内積を計算するプログラムを作成せよ\n",
    "- 下記の関数 mydot に内積を計算するプログラムをfor文を使って記述せよ\n",
    "    - ヒント： 内積はベクトルの各要素を掛け合わせて，それらを足したものです．\n",
    "- 関数が作成できたらテストを実行して Test Passed になることを確認してください"
   ]
  },
  {
   "cell_type": "code",
   "execution_count": null,
   "metadata": {},
   "outputs": [],
   "source": [
    "function mydot(x, y)\n",
    "    # ここにプログラムを記述してください\n",
    "end"
   ]
  },
  {
   "cell_type": "markdown",
   "metadata": {},
   "source": [
    "#### 課題１のテストプログラム\n",
    "- mydot が作成できたら以下のテストプログラムを実行してすべて**Test Passed**になることを確認してください\n",
    "- **Test Failed** が出たら結果が計算が間違っているので mydot を修正してください"
   ]
  },
  {
   "cell_type": "code",
   "execution_count": null,
   "metadata": {},
   "outputs": [],
   "source": [
    "for k = 1:10\n",
    "    s = rand(1:10)\n",
    "    x = rand(s)\n",
    "    y = rand(s)\n",
    "    println(@test mydot(x, y) ≈ dot(x,y))\n",
    "end"
   ]
  },
  {
   "cell_type": "markdown",
   "metadata": {},
   "source": [
    "### 課題2\n",
    "- 行列とベクトルの積を計算するプログラムを作成せよ\n",
    "- 下記の関数 mymul に行列Aとベクトルxのかけ算 $Ax$ を計算するプログラムを記述せよ\n",
    "    - 行列Aの次元は任意．ただし行列Aの列数（size(A）[2]の値)とベクトル x の要素数（length(x）)は常に同じものが入力されるものとする（エラー判定しなくて良い）\n",
    "    - 計算結果は行列ではなく，ベクトルとして返すこと\n",
    "    - ヒント： 行列 A の各行とベクトルxの内積計算を繰り返します\n",
    "- 関数が作成できたらテストを実行して Test Passed になることを確認してください"
   ]
  },
  {
   "cell_type": "code",
   "execution_count": null,
   "metadata": {},
   "outputs": [],
   "source": [
    "function mymul(A, x)\n",
    "    # ここにプログラムを記述してください\n",
    "end"
   ]
  },
  {
   "cell_type": "markdown",
   "metadata": {},
   "source": [
    "#### 課題2のテストプログラム\n",
    "- mymul が作成できたら以下のテストプログラムを実行してすべて**Test Passed**になることを確認してください\n",
    "- **Test Failed** が出たら結果が計算が間違っているので mymul を修正してください"
   ]
  },
  {
   "cell_type": "code",
   "execution_count": null,
   "metadata": {},
   "outputs": [],
   "source": [
    "for k = 1:10\n",
    "    i = rand(1:10)\n",
    "    j = rand(1:10)\n",
    "    A = rand(i, j)\n",
    "    x = rand(j)\n",
    "    println(@test all(mymul(A, x) .≈ A * x))\n",
    "end"
   ]
  },
  {
   "cell_type": "markdown",
   "metadata": {},
   "source": [
    "### 課題3: 発展課題\n",
    "- 行列と行列の積を計算するプログラムを for 文を使って作成せよ\n",
    "- 下記の関数 mymul2 に行列Aと行列Bのかけ算 $A B$ を計算するプログラムを記述せよ\n",
    "    - 行列A, Bの次元は任意．ただし行列Aの列数（size(A）[2]の値)と行列Bの行数（size(B)[1]）は常に同じものが入力されるものとする（エラー判定しなくて良い）\n",
    "    - 計算結果は行列で返すこと\n",
    "    - ヒント： 行列 A と行列Bの各列の行列・ベクトル積計算を繰り返します\n",
    "- 関数が作成できたらテストを実行して Test Passed になることを確認してください"
   ]
  },
  {
   "cell_type": "code",
   "execution_count": null,
   "metadata": {},
   "outputs": [],
   "source": [
    "function mymul2(A, B)\n",
    "    # ここにプログラムを記述してください\n",
    "end"
   ]
  },
  {
   "cell_type": "code",
   "execution_count": null,
   "metadata": {},
   "outputs": [],
   "source": [
    "for k = 1:10\n",
    "    i = rand(1:10)\n",
    "    j = rand(1:10)\n",
    "    k = rand(1:10)\n",
    "    A = rand(i, k)\n",
    "    B = rand(k,j)\n",
    "    println(@test all(mymul2(A, B) .≈ A * B))\n",
    "end"
   ]
  },
  {
   "cell_type": "code",
   "execution_count": null,
   "metadata": {},
   "outputs": [],
   "source": []
  }
 ],
 "metadata": {
  "kernelspec": {
   "display_name": "Julia 1.1.0",
   "language": "julia",
   "name": "julia-1.1"
  },
  "language_info": {
   "file_extension": ".jl",
   "mimetype": "application/julia",
   "name": "julia",
   "version": "1.1.0"
  }
 },
 "nbformat": 4,
 "nbformat_minor": 2
}
