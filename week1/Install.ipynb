{
 "cells": [
  {
   "cell_type": "code",
   "execution_count": 2,
   "metadata": {},
   "outputs": [
    {
     "name": "stdout",
     "output_type": "stream",
     "text": [
      "  Updating registry at `~/.julia/registries/General`\n",
      "  Updating git-repo `https://github.com/JuliaRegistries/General.git`\n",
      "\u001b[2K\u001b[?25hFetching: [>                                        ]  0.0 % Resolving package versions...\n",
      "  Updating `~/.julia/environments/v1.1/Project.toml`\n",
      " [no changes]\n",
      "  Updating `~/.julia/environments/v1.1/Manifest.toml`\n",
      " [no changes]\n",
      " Resolving package versions...\n",
      "  Updating `~/.julia/environments/v1.1/Project.toml`\n",
      " [no changes]\n",
      "  Updating `~/.julia/environments/v1.1/Manifest.toml`\n",
      " [no changes]\n",
      "Precompiling project...\n",
      "Precompiling Plots\n"
     ]
    }
   ],
   "source": [
    "!julia -e \"using Pkg; pkg\\\"add IJulia\\\"; pkg\\\"add Plots\\\"; pkg\\\"precompile\\\"\""
   ]
  },
  {
   "cell_type": "code",
   "execution_count": null,
   "metadata": {},
   "outputs": [],
   "source": []
  }
 ],
 "metadata": {
  "kernelspec": {
   "display_name": "Python 3",
   "language": "python",
   "name": "python3"
  },
  "language_info": {
   "codemirror_mode": {
    "name": "ipython",
    "version": 3
   },
   "file_extension": ".py",
   "mimetype": "text/x-python",
   "name": "python",
   "nbconvert_exporter": "python",
   "pygments_lexer": "ipython3",
   "version": "3.6.7"
  }
 },
 "nbformat": 4,
 "nbformat_minor": 2
}
