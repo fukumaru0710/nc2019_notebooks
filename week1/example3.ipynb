{
 "cells": [
  {
   "cell_type": "markdown",
   "metadata": {},
   "source": [
    "# 情報落ちの例\n",
    "\n",
    "- スケールの違う二つの加減算で，一方の値が小さすぎて（有効桁で０）反映されない\n",
    "- Float32 -> 有効桁約7桁\n",
    "- 例：$1234567 + 0.04 + 0.06$ を足す順番を変えて計算する"
   ]
  },
  {
   "cell_type": "code",
   "execution_count": null,
   "metadata": {},
   "outputs": [],
   "source": [
    "using Printf"
   ]
  },
  {
   "cell_type": "code",
   "execution_count": null,
   "metadata": {},
   "outputs": [],
   "source": [
    "# 例: プログラミング演習3 第７回の例を Julia 言語で記述\n",
    "\n",
    "function example()\n",
    "    a::Float32 = 1234567\n",
    "    b::Float32 = 0.0400000\n",
    "    c::Float32 = 0.0600000\n",
    "    S1::Float32 = (a　+　b)　+　c\n",
    "    S2::Float32 = a + (b　+　c)\n",
    "    if S1 == S2\n",
    "        println(\"equal.\")\n",
    "    else\n",
    "        println(\"not equal!\")\n",
    "    end\n",
    "    @printf(\" a = %.10f\\n\", a)\n",
    "    @printf(\" b = %.10f\\n\", b)\n",
    "    @printf(\" c = %.10f\\n\", c)\n",
    "    @printf(\" a + b = %.10f\\n\", a + b)\n",
    "    @printf(\"(a+b)+c = %.10f\\n\",S1)\n",
    "    @printf(\" b + c = %.10f\\n\", b + c)\n",
    "    @printf(\"a+(b+c) = %.10f\\n\",S2)\n",
    "    (S1, S2)\n",
    "end"
   ]
  },
  {
   "cell_type": "code",
   "execution_count": null,
   "metadata": {},
   "outputs": [],
   "source": [
    "# 実行\n",
    "S1, S2 = example() # S1, S2 を戻り値として受け取る"
   ]
  },
  {
   "cell_type": "code",
   "execution_count": null,
   "metadata": {},
   "outputs": [],
   "source": [
    "alpha = 1234567.1  ## 厳密解\n",
    "abserrS1 = abs(S1 - alpha) # 絶対誤差\n",
    "relerrS1 = abs(((S1 - alpha) / alpha)) # 相対誤差\n",
    "abserrS2 = abs(S2 - alpha) # 絶対誤差\n",
    "relerrS2 = abs(((S2 - alpha) / alpha)) # 相対誤差\n",
    "\n",
    "@printf(\"S1: 絶対誤差=%e, 相対誤差=%e\\n\", abserrS1, relerrS1)\n",
    "@printf(\"S1: 絶対誤差=%e, 相対誤差=%e\\n\", abserrS2, relerrS2)  ## S2 の方が誤差が小さい"
   ]
  },
  {
   "cell_type": "code",
   "execution_count": null,
   "metadata": {},
   "outputs": [],
   "source": []
  }
 ],
 "metadata": {
  "kernelspec": {
   "display_name": "Julia 1.1.0",
   "language": "julia",
   "name": "julia-1.1"
  },
  "language_info": {
   "file_extension": ".jl",
   "mimetype": "application/julia",
   "name": "julia",
   "version": "1.1.0"
  }
 },
 "nbformat": 4,
 "nbformat_minor": 2
}
