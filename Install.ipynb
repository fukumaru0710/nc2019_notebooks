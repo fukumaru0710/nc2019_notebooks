{
 "cells": [
  {
   "cell_type": "code",
   "execution_count": 1,
   "metadata": {},
   "outputs": [
    {
     "name": "stdout",
     "output_type": "stream",
     "text": [
      "   Cloning default registries into `~/.julia`\n",
      "   Cloning registry from \"https://github.com/JuliaRegistries/General.git\"\n",
      "\u001b[2K\u001b[?25hng: [====================================>    ]  88.9 %0.0 %     Added registry `General` to `~/.julia/registries/General`\n",
      " Resolving package versions...\n",
      " Installed ZMQ ───────────── v1.0.0\n",
      " Installed SoftGlobalScope ─ v1.0.10\n",
      " Installed Parsers ───────── v0.3.8\n",
      " Installed Compat ────────── v2.2.0\n",
      " Installed Conda ─────────── v1.3.0\n",
      " Installed IJulia ────────── v1.20.2\n",
      " Installed MbedTLS ───────── v0.6.8\n",
      " Installed JSON ──────────── v0.21.0\n",
      " Installed VersionParsing ── v1.1.3\n",
      " Installed BinaryProvider ── v0.5.8\n",
      "  Updating `~/.julia/environments/v1.1/Project.toml`\n",
      "  [7073ff75] + IJulia v1.20.2\n",
      "  Updating `~/.julia/environments/v1.1/Manifest.toml`\n",
      "  [b99e7846] + BinaryProvider v0.5.8\n",
      "  [34da2185] + Compat v2.2.0\n",
      "  [8f4d0f93] + Conda v1.3.0\n",
      "  [7073ff75] + IJulia v1.20.2\n",
      "  [682c06a0] + JSON v0.21.0\n",
      "  [739be429] + MbedTLS v0.6.8\n",
      "  [69de0a69] + Parsers v0.3.8\n",
      "  [b85f4697] + SoftGlobalScope v1.0.10\n",
      "  [81def892] + VersionParsing v1.1.3\n",
      "  [c2297ded] + ZMQ v1.0.0\n",
      "  [2a0f44e3] + Base64 \n",
      "  [ade2ca70] + Dates \n",
      "  [8bb1440f] + DelimitedFiles \n",
      "  [8ba89e20] + Distributed \n",
      "  [7b1f6079] + FileWatching \n",
      "  [b77e0a4c] + InteractiveUtils \n",
      "  [76f85450] + LibGit2 \n",
      "  [8f399da3] + Libdl \n",
      "  [37e2e46d] + LinearAlgebra \n",
      "  [56ddb016] + Logging \n",
      "  [d6f4376e] + Markdown \n",
      "  [a63ad114] + Mmap \n",
      "  [44cfe95a] + Pkg \n",
      "  [de0858da] + Printf \n",
      "  [3fa0cd96] + REPL \n",
      "  [9a3f8284] + Random \n",
      "  [ea8e919c] + SHA \n",
      "  [9e88b42a] + Serialization \n",
      "  [1a1011a3] + SharedArrays \n",
      "  [6462fe0b] + Sockets \n",
      "  [2f01184e] + SparseArrays \n",
      "  [10745b16] + Statistics \n",
      "  [8dfed614] + Test \n",
      "  [cf7118a7] + UUIDs \n",
      "  [4ec0a83e] + Unicode \n",
      "  Building Conda ──→ `~/.julia/packages/Conda/kLXeC/deps/build.log`\n",
      "  Building ZMQ ────→ `~/.julia/packages/ZMQ/ABGOx/deps/build.log`\n",
      "  Building MbedTLS → `~/.julia/packages/MbedTLS/X4xar/deps/build.log`\n",
      "  Building IJulia ─→ `~/.julia/packages/IJulia/F1GUo/deps/build.log`\n",
      "Precompiling project...\n",
      "Precompiling IJulia\n"
     ]
    }
   ],
   "source": [
    "!julia -e \"using Pkg; pkg\\\"add IJulia\\\"; pkg\\\"precompile\\\"\""
   ]
  },
  {
   "cell_type": "code",
   "execution_count": null,
   "metadata": {},
   "outputs": [],
   "source": []
  }
 ],
 "metadata": {
  "kernelspec": {
   "display_name": "Python 3",
   "language": "python",
   "name": "python3"
  },
  "language_info": {
   "codemirror_mode": {
    "name": "ipython",
    "version": 3
   },
   "file_extension": ".py",
   "mimetype": "text/x-python",
   "name": "python",
   "nbconvert_exporter": "python",
   "pygments_lexer": "ipython3",
   "version": "3.6.7"
  }
 },
 "nbformat": 4,
 "nbformat_minor": 2
}
