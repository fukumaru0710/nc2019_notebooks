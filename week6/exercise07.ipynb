{
 "cells": [
  {
   "cell_type": "markdown",
   "metadata": {},
   "source": [
    "# 最適化（多変数）\n",
    "\n",
    "- すべての課題を実行せよ\n",
    "- すべての課題が完了したら Jupyter の File メニューから Download as -> Markdown (.md) として結果をダウンロードし， Bb9 の「課題」からファイル添付で提出せよ"
   ]
  },
  {
   "cell_type": "code",
   "execution_count": null,
   "metadata": {},
   "outputs": [],
   "source": [
    "# 初期化なので最初に実行してください\n",
    "include(\"../lib/Trace.jl\")\n",
    "using LinearAlgebra\n",
    "using .Trace\n",
    "using Test\n",
    "using Printf"
   ]
  },
  {
   "cell_type": "markdown",
   "metadata": {},
   "source": [
    "## 課題1\n",
    "\n",
    "### 勾配降下法（1変数）\n",
    "- アルミホ条件がなりたつように値が小さくなる方向へ探索"
   ]
  },
  {
   "cell_type": "markdown",
   "metadata": {},
   "source": [
    "## 課題1-1\n",
    "- バックトラックによる直線探索法のプログラムを完成させよ\n"
   ]
  },
  {
   "cell_type": "markdown",
   "metadata": {},
   "source": [
    "### linesearch の説明\n",
    "- 引数\n",
    "    - f: 非線形関数．f(x) のように呼び出される\n",
    "    - d: 降下方向\n",
    "    - x0: $f(x0+eta*d)$\n",
    "    - f0: $f0 = f(x0)$\n",
    "    - fdash0: $fdash0 = f'(x0)$\n",
    "    - xi1: 降下条件の緩和パラメータ\n",
    "    - beta: eta の減少率\n",
    "    - eta0: eta の最大値\n",
    "- 戻り値\n",
    "    - 降下条件を満たす　$x1, f(x1)$ の値\n",
    "- 関数内の変数\n",
    "    - eta: $f(x0 + eta * d)$ \n",
    "    - x0, x1: 現在の点，次の点"
   ]
  },
  {
   "cell_type": "code",
   "execution_count": null,
   "metadata": {},
   "outputs": [],
   "source": [
    "function linesearch(f, d, x0, f0, fdash0; xi1=1/10000, beta=0.8, eta0=1.0)\n",
    "    eta = eta0\n",
    "    @trace x1, f1 = x0 + eta * d, f(x0 + eta * d)\n",
    "    while _______________________ # 降下条件がなりたつまで eta を減少する\n",
    "        eta *= beta\n",
    "        @trace x1, f1 = x0 + eta * d, f(x0 + eta * d)\n",
    "    end\n",
    "    return (x1, f1)\n",
    "end"
   ]
  },
  {
   "cell_type": "markdown",
   "metadata": {},
   "source": [
    "#### テストプログラム\n",
    "- 作成できたら以下のテストプログラムを実行してすべて**Test Passed**になることを確認\n",
    "- **Test Failed** が出たら結果が計算が間違っているので修正"
   ]
  },
  {
   "cell_type": "code",
   "execution_count": null,
   "metadata": {},
   "outputs": [],
   "source": [
    "f(x) = x^2-3x+2\n",
    "fdash(x) = 2x-3\n",
    "x0 = 0.1\n",
    "x1, f1 = linesearch(f, -fdash(x0), x0, f(x0), fdash(x0))\n",
    "println(@test x1 ≈ 2.34)\n",
    "println(@test f1 ≈ 0.45559999999999956)\n",
    "x0 = 1.5\n",
    "x1, f1 = linesearch(f, -fdash(x0), x0, f(x0), fdash(x0))\n",
    "println(@test x1 ≈ 1.5)\n",
    "println(@test f1 ≈ -0.25)"
   ]
  },
  {
   "cell_type": "markdown",
   "metadata": {},
   "source": [
    "## 課題1-2\n",
    "- xi1を変えた場合の探索の違いを確認し，なぜ違うのか考察せよ．また $f(x)=x^2-3x+2$ のときにx0=3, xi1=1とするとアルミホ条件を満たすx1は理論的にどうなるか答えよ"
   ]
  },
  {
   "cell_type": "code",
   "execution_count": null,
   "metadata": {},
   "outputs": [],
   "source": [
    "f(x) = x^2-3x+2\n",
    "fdash(x) = 2x-3\n",
    "x0 = 0.1\n",
    "\n",
    "xi1 = 0.1\n",
    "@traceon x1, f1 = linesearch(f, -fdash(x0), x0, f(x0), fdash(x0), xi1 = xi1)\n",
    "@printf(\"\\nxi1=%f としたときの探索\\n\", xi1)\n",
    "for (i,x) in enumerate(@gettrace)\n",
    "    @printf(\"step=%d: f(%f) = %f\\n\", i, x[1], x[2])\n",
    "end\n",
    "\n",
    "xi1 = 0.5\n",
    "@traceon x1, f1 = linesearch(f, -fdash(x0), x0, f(x0), fdash(x0), xi1 = xi1)\n",
    "@printf(\"\\nxi1=%f としたときの探索\\n\", xi1)\n",
    "for (i,x) in enumerate(@gettrace)\n",
    "    @printf(\"step=%d: f(%f) = %f\\n\", i, x[1], x[2])\n",
    "end"
   ]
  },
  {
   "cell_type": "markdown",
   "metadata": {},
   "source": [
    "#### 解答\n",
    "\n",
    "- ここに理由を記述\n",
    "- xi1=1としたときのx1の値"
   ]
  },
  {
   "cell_type": "markdown",
   "metadata": {},
   "source": [
    "## 課題1-3\n",
    "- 勾配降下法のプログラムを定義し，テストプログラムを実行せよ"
   ]
  },
  {
   "cell_type": "markdown",
   "metadata": {},
   "source": [
    "### gd の説明\n",
    "- 引数\n",
    "    - f: 非線形関数．f(x) のように呼び出される\n",
    "    - fdash: 導関数．fdash(x)のように呼び出される\n",
    "    - x0: 初期値\n",
    "    - xi1: 降下条件の緩和パラメータ\n",
    "    - beta: eta の減少率\n",
    "    - eta0: eta の最大値\n",
    "    - tol: 許容誤差\n",
    "    - maxiter: 最大繰り返し回数\n",
    "- 戻り値\n",
    "    - 最小解，最小値,その時の微分値\n",
    "    - 収束したかどうか\n",
    "    - 繰り返し回数\n",
    "- 関数内の変数\n",
    "    - iter: 繰返し回数\n",
    "    - d: 降下方向\n",
    "    - eta: $f(x0 + eta * d)$ \n",
    "    - x0, f0, fdash0: 現在の点x0におけるf0=f(x0)およびfdash0=fdash(x0)\n",
    "    - x1, f1, fdash1: 次の点x1におけるf1=f(x1)およびfdash1=fdash(x1)"
   ]
  },
  {
   "cell_type": "code",
   "execution_count": null,
   "metadata": {},
   "outputs": [],
   "source": [
    "function gd(f, fdash, x0; xi1=1/10000, beta=0.8, eta0=1.0, tol=1.0e-8, maxiter=10000)\n",
    "    iter = 0\n",
    "    f0, fdash0 = f(x0), fdash(x0)\n",
    "    while true\n",
    "        d = -fdash0\n",
    "        x1, f1 = linesearch(f, d, x0, f0, fdash0, xi1=xi1, beta=beta, eta0=eta0)\n",
    "        fdash1 = fdash(x1)\n",
    "\n",
    "        abs(fdash1) < tol && return (x1, f1, fdash1, true, iter) # 終了条件その１\n",
    "        iter >= maxiter && return (x1, f1, fdash1, false, iter) # 終了条件その２\n",
    "\n",
    "        x0, f0, fdash0 = x1, f1, fdash1\n",
    "        iter += 1\n",
    "    end\n",
    "end"
   ]
  },
  {
   "cell_type": "markdown",
   "metadata": {},
   "source": [
    "#### テストプログラム\n",
    "- 作成できたら以下のテストプログラムを実行してすべて**Test Passed**になることを確認\n",
    "- **Test Failed** が出たら結果が計算が間違っているので修正"
   ]
  },
  {
   "cell_type": "code",
   "execution_count": null,
   "metadata": {},
   "outputs": [],
   "source": [
    "f(x) = x^2-3x+2\n",
    "fdash(x) = 2x-3\n",
    "x0 = 0.1\n",
    "xmin,fmin,fd,conv,iter = gd(f, fdash, x0, beta=0.6)\n",
    "println(@test xmin ≈ 3/2)"
   ]
  },
  {
   "cell_type": "markdown",
   "metadata": {},
   "source": [
    "## 課題1-4\n",
    "- exercise06の課題2-2と同じ関数を用いて $f(x)$ の最小解を gd を使って求めよ\n",
    "- exercise06の課題1-2,課題2-2の結果と繰返し回数の比較を行え"
   ]
  },
  {
   "cell_type": "code",
   "execution_count": null,
   "metadata": {},
   "outputs": [],
   "source": [
    "# f(x) を定義\n",
    "f(x) = ?\n",
    "# fdash(x) を定義\n",
    "fdash(x) = ?\n",
    "# 初期値 x0 をセット\n",
    "x0 = ?\n",
    "# gd を実行\n",
    "xmin,fmin,fd,conv,iter = gd(f, fdash, x0)"
   ]
  },
  {
   "cell_type": "markdown",
   "metadata": {},
   "source": [
    "|手法|繰り返し回数|\n",
    "|:---:|:---:|\n",
    "| goldensection | 0 |\n",
    "| opnewton | 0 |\n",
    "| gd | 0 |"
   ]
  },
  {
   "cell_type": "markdown",
   "metadata": {},
   "source": [
    "---"
   ]
  },
  {
   "cell_type": "markdown",
   "metadata": {},
   "source": [
    "## 課題2\n",
    "- Nelder-Meadシンプレックス法\n",
    "- 多変数関数の最小化で微分値を使わずに最小解，最小値を求める手法\n",
    "- 多面体をコロコロ転がして最小値へ持って行く"
   ]
  },
  {
   "cell_type": "markdown",
   "metadata": {},
   "source": [
    "### 課題2-1\n",
    "- Nelder-Meadシンプレックス法のプログラムを作成せよ\n",
    "- テストプログラムで動作を確認せよ"
   ]
  },
  {
   "cell_type": "markdown",
   "metadata": {},
   "source": [
    "### nmsimplex の説明\n",
    "- 引数\n",
    "    - f: 非線形関数．f(x) のように呼び出される\n",
    "    - xv: 初期点のリスト\n",
    "    - alpha: 反射パラメータ\n",
    "    - gamma: 拡張パラメータ\n",
    "    - rho: 収縮パラメータ\n",
    "    - sigma: 縮小パラメータ\n",
    "    - tol: 許容誤差\n",
    "    - maxiter: 最大繰り返し回数\n",
    "- 戻り値\n",
    "    - 最小解，最小値\n",
    "    - 収束したかどうか\n",
    "    - 繰り返し回数\n",
    "- 関数内の変数\n",
    "    - iter: 繰返し回数\n",
    "    - fv: 各 xv における点の評価値（xv, fvは評価値の小さい順にソートされる）\n",
    "    - xo: xv[1] から xv[n] の点の重心\n",
    "    - xr, fr: 反射により得られた新たな点とその評価値\n",
    "    - xe, fe: 拡張により得られた新たな点とその評価値\n",
    "    - xc, fc: 収縮により得られた新たな点とその評価値"
   ]
  },
  {
   "cell_type": "code",
   "execution_count": null,
   "metadata": {},
   "outputs": [],
   "source": [
    "function nmsimplex(f, xv; alpha = 1.0, gamma = 2.0, rho = 1/2, sigma = 1/2, tol = 1.0e-12, maxiter = 100)\n",
    "    n = length(xv[1])\n",
    "    iter = 1\n",
    "    fv = f.(xv) # ｆ（x_1), f(x_2), ...,　f(x_n) を計算\n",
    "    while true # 無限ループ\n",
    "        iter += 1\n",
    "        # fv の小さい順に xv, fv をソート\n",
    "        p = sortperm(fv)\n",
    "        xv, fv = xv[p], fv[p]\n",
    "        @trace xo = sum(xv[1:n]) / n # 重心を計算\n",
    "\n",
    "        maximum(abs.(xv[1] - xv[n+1])) < tol &&  return (xv[1], fv[1], true, iter) # 終了条件\n",
    "        iter >= maxiter && return (xv[1], fv[1], false, iter) 　　　　　　　　　　　　　　　　　　　　　　　　　　　　　　　　　　　　　　# 終了条件\n",
    "\n",
    "        ## 反射 reflection\n",
    "        xr = ___________________　# ? x[n+1] の点を xo に対して反転した点\n",
    "        fr = f(xr)\n",
    "        if fv[1] <= fr < fv[n] # 反射したものが f[1] を超えない程度に良かったら最も悪い値を交換\n",
    "            xv[n+1] = xr\n",
    "            fv[n+1] = fr\n",
    "            continue\n",
    "        end\n",
    "        \n",
    "        if fr < fv[1] # 反射したものが1番良かったらさらに良い解を探す\n",
    "            ## 拡張　expansion\n",
    "            xe = xo + gamma * (xr - xo)\n",
    "            fe = f(xe)\n",
    "            if fe < fr\n",
    "                xv[n+1], fv[n+1] = xe, fe\n",
    "            else\n",
    "                xv[n+1], fv[n+1] = xr, fr\n",
    "            end\n",
    "            continue\n",
    "        end\n",
    "\n",
    "        ## 収縮 contraction\n",
    "        xc = xo + rho * (xv[n+1] - xo)\n",
    "        fc = f(xc)\n",
    "        if fc < fv[n+1]\n",
    "            xv[n+1], fv[n+1] = xc, fc\n",
    "        else\n",
    "            ## 縮小 reduction/shrink\n",
    "            for i = 2:n+1\n",
    "                xv[i] = xv[1] + sigma * (xv[i] - xv[1])\n",
    "                fv[i] = f(xv[i])\n",
    "            end\n",
    "        end\n",
    "    end\n",
    "end"
   ]
  },
  {
   "cell_type": "markdown",
   "metadata": {},
   "source": [
    "### nminitial の説明（これも実行して定義してください）\n",
    "- 概要\n",
    "    - 与えられた点から n+1 個の初期点を生成する\n",
    "    - 各座標毎に lambda を可算する\n",
    "- 引数\n",
    "    - x: 初期点（一つ）\n",
    "    - lambda: 各座標に可算する数値\n",
    "- 戻り値\n",
    "    - 最初に与えた x を含む n+1 個の点のリスト\n",
    "- 関数内の変数（省略）"
   ]
  },
  {
   "cell_type": "code",
   "execution_count": null,
   "metadata": {},
   "outputs": [],
   "source": [
    "function nminitial(x; lambda = 1.0)\n",
    "    n = length(x)\n",
    "    list = map(1:n) do i\n",
    "        s = copy(x)\n",
    "        s[i] += lambda\n",
    "        s\n",
    "    end\n",
    "    push!(list, x)\n",
    "    return list\n",
    "end"
   ]
  },
  {
   "cell_type": "markdown",
   "metadata": {},
   "source": [
    "#### テストプログラム\n",
    "- 作成できたら以下のテストプログラムを実行してすべて**Test Passed**になることを確認\n",
    "- **Test Failed** が出たら結果が計算が間違っているので修正"
   ]
  },
  {
   "cell_type": "code",
   "execution_count": null,
   "metadata": {},
   "outputs": [],
   "source": [
    "f(x) = (x[1]-1.0)^2 + 5*(x[2]-1.0)^2\n",
    "xmin, fmin, conv, iter = nmsimplex(f, nminitial([10.0, 10.0]))\n",
    "println(@test xmin ≈ [1.0, 1.0])"
   ]
  },
  {
   "cell_type": "markdown",
   "metadata": {},
   "source": [
    "### 課題2-2\n",
    "- ランダムに問題を作成し，最適解が求まるようにNelder-Meadシンプレックス法のパラメータを調整せよ"
   ]
  },
  {
   "cell_type": "markdown",
   "metadata": {},
   "source": [
    "#### 下記を実行して最適化問題をランダムに作成"
   ]
  },
  {
   "cell_type": "code",
   "execution_count": null,
   "metadata": {},
   "outputs": [],
   "source": [
    "n = 5\n",
    "A = randn(n, n)\n",
    "b = randn(n)\n",
    "A = A' * A\n",
    "f(x) = x' * (A * x) / 2.0 - b' * x\n",
    "fdash(x) = A * x - b\n",
    "xmin0 = A \\ b # 最適解"
   ]
  },
  {
   "cell_type": "code",
   "execution_count": null,
   "metadata": {},
   "outputs": [],
   "source": [
    "# テストにパスするように maxiter, alpha, gamma, rho, sigma を調整する\n",
    "@traceon xmin, fmin, conv, iter = nmsimplex(f, nminitial(fill(0.0, n)), maxiter = 100, alpha = 1.0, gamma = 2.0, rho = 1/2, sigma = 1/2)\n",
    "path1 = map(x->(x[1], x[2]), @gettrace)\n",
    "display(path1)\n",
    "println(@test xmin0 ≈ xmin)"
   ]
  },
  {
   "cell_type": "markdown",
   "metadata": {},
   "source": [
    "## 課題3\n",
    "- 勾配降下法"
   ]
  },
  {
   "cell_type": "markdown",
   "metadata": {},
   "source": [
    "### 課題3-1\n",
    "- 学習率固定のラフな最急降下法のプログラムを作成せよ\n",
    "- テストプログラムで動作を確認せよ"
   ]
  },
  {
   "cell_type": "markdown",
   "metadata": {},
   "source": [
    "### gd1 の説明\n",
    "- 引数\n",
    "    - f: 非線形関数．f(x) のように呼び出される\n",
    "    - fdash: 導関数．fdash(x)のように呼び出される\n",
    "    - x0: 初期値\n",
    "    - eta: 学習率（固定値）\n",
    "    - maxiter: 最大繰り返し回数\n",
    "- 戻り値\n",
    "    - 最小解，最小値,その時の微分値\n",
    "- 関数内の変数\n",
    "    - iter: 繰返し回数\n",
    "    - d: 降下方向\n",
    "    - x0, f0, fdash0: 現在の点x0におけるf0=f(x0)およびfdash0=fdash(x0)\n",
    "    - x1, f1, fdash1: 次の点x1におけるf1=f(x1)およびfdash1=fdash(x1)"
   ]
  },
  {
   "cell_type": "code",
   "execution_count": null,
   "metadata": {},
   "outputs": [],
   "source": [
    "function gd1(f, fdash, x0; eta = 0.001, maxiter=100)\n",
    "    iter = 0\n",
    "    @trace x0, f0, fdash0 = x0, f(x0), fdash(x0)\n",
    "    while true\n",
    "        d = -fdash0\n",
    "        _______________ # 更新処理\n",
    "        f1, fdash1 = f(x1), fdash(x1)\n",
    "        if iter >= maxiter # 回数の判定\n",
    "            return x1, f1, fdash1\n",
    "        end\n",
    "        @trace x0, f0, fdash0 = x1, f1, fdash1 # 更新した座標 x1 を現在の座標 x0 にする\n",
    "        iter += 1\n",
    "    end\n",
    "end"
   ]
  },
  {
   "cell_type": "markdown",
   "metadata": {},
   "source": [
    "#### テストプログラム\n",
    "- 作成できたら以下のテストプログラムを実行してすべて**Test Passed**になることを確認\n",
    "- **Test Failed** が出たら結果が計算が間違っているので修正"
   ]
  },
  {
   "cell_type": "code",
   "execution_count": null,
   "metadata": {},
   "outputs": [],
   "source": [
    "f(x) = (x[1]-1.0)^2 + 5*(x[2]-1.0)^2\n",
    "fdash(x) = [2.0*(x[1] - 1.0), 10.0 * (x[2] - 1.0)]\n",
    "xmin, fmin, fd = gd1(f, fdash, [0.0, 0.0], eta = 0.1)\n",
    "println(@test xmin ≈ [1.0, 1.0])"
   ]
  },
  {
   "cell_type": "markdown",
   "metadata": {},
   "source": [
    "### 課題3-2\n",
    "- ランダムに問題を作成し，最適解が求まるようにgd1のパラメータを調整せよ"
   ]
  },
  {
   "cell_type": "markdown",
   "metadata": {},
   "source": [
    "#### 下記を実行して最適化問題をランダムに作成"
   ]
  },
  {
   "cell_type": "code",
   "execution_count": null,
   "metadata": {},
   "outputs": [],
   "source": [
    "n = 5\n",
    "A = randn(n, n)\n",
    "b = randn(n)\n",
    "A = A' * A\n",
    "f(x) = x' * (A * x) / 2.0 - b' * x\n",
    "fdash(x) = A * x - b\n",
    "xmin0 = A \\ b # 最適解"
   ]
  },
  {
   "cell_type": "code",
   "execution_count": null,
   "metadata": {},
   "outputs": [],
   "source": [
    "# テストにパスするように学習率 eta と maxiter を調整する\n",
    "@traceon xmin, fmin, fd = gd1(f, fdash, fill(0.0, n), eta = 0.001, maxiter = 100)\n",
    "path2 = map(x->(x[1], x[2]), @gettrace)\n",
    "display(path2)\n",
    "println(@test xmin0 ≈ xmin)"
   ]
  },
  {
   "cell_type": "markdown",
   "metadata": {},
   "source": [
    "### 課題3-3\n",
    "- 降下条件を考慮した最急降下法のプログラムを作成せよ\n",
    "- テストプログラムで動作を確認せよ"
   ]
  },
  {
   "cell_type": "markdown",
   "metadata": {},
   "source": [
    "### gd2 の説明\n",
    "- 引数\n",
    "    - f: 非線形関数．f(x) のように呼び出される\n",
    "    - fdash: 導関数．fdash(x)のように呼び出される\n",
    "    - x0: 初期値\n",
    "    - xi1: 降下条件の緩和パラメータ\n",
    "    - beta: eta の減少率\n",
    "    - eta0: eta の最大値\n",
    "    - tol: 許容誤差\n",
    "    - maxiter: 最大繰り返し回数\n",
    "- 戻り値\n",
    "    - 最小解，最小値,その時の微分値\n",
    "    - 収束したかどうか\n",
    "    - 繰り返し回数\n",
    "- 関数内の変数\n",
    "    - iter: 繰返し回数\n",
    "    - d: 降下方向\n",
    "    - eta: $f(x0 + eta * d)$ \n",
    "    - x0, f0, fdash0: 現在の点x0におけるf0=f(x0)およびfdash0=fdash(x0)\n",
    "    - x1, f1, fdash1: 次の点x1におけるf1=f(x1)およびfdash1=fdash(x1)"
   ]
  },
  {
   "cell_type": "code",
   "execution_count": null,
   "metadata": {},
   "outputs": [],
   "source": [
    "# ベクトル版 linesearch\n",
    "function linesearch(f, d, x0, f0, fdash0; xi1=1/10000, beta=0.8, eta0=1.0)\n",
    "    eta = eta0\n",
    "    x1, f1 = x0 + eta * d, f(x0 + eta * d)\n",
    "    while f1 > f0 + xi1 * eta * dot(fdash0, d) # 降下条件がなりたつまで eta を減少する f1 > f0 + xi1 * eta * fdash0 * d\n",
    "        eta *= beta\n",
    "        x1, f1 = x0 + eta * d, f(x0 + eta * d)\n",
    "    end\n",
    "    return (x1, f1)\n",
    "end\n",
    "\n",
    "function gd2(f, fdash, x0; xi1=1/10000, beta=0.8, eta0=1.0, tol=1.0e-12, maxiter=100)\n",
    "    iter = 0\n",
    "    @trace x0, f0, fdash0 = x0, f(x0), fdash(x0)\n",
    "    while true\n",
    "        d = -fdash0\n",
    "        x1, f1 = linesearch(f, d, x0, f0, fdash0, xi1=xi1, beta=beta, eta0=eta0)\n",
    "        fdash1 = fdash(x1)\n",
    "        maximum(abs.(x1 - x0)) < tol && return (x1, f1, fdash1, true, iter)\n",
    "        iter >= maxiter && return (x1, f1, fdash1, false, iter)\n",
    "        @trace x0, f0, fdash0 = x1, f1, fdash1\n",
    "        iter += 1\n",
    "    end\n",
    "end"
   ]
  },
  {
   "cell_type": "markdown",
   "metadata": {},
   "source": [
    "#### テストプログラム\n",
    "- 作成できたら以下のテストプログラムを実行してすべて**Test Passed**になることを確認\n",
    "- **Test Failed** が出たら結果が計算が間違っているので修正"
   ]
  },
  {
   "cell_type": "code",
   "execution_count": null,
   "metadata": {},
   "outputs": [],
   "source": [
    "f(x) = (x[1]-1.0)^2 + 5*(x[2]-1.0)^2\n",
    "fdash(x) = [2.0*(x[1] - 1.0), 10.0 * (x[2] - 1.0)]\n",
    "xmin, fmin, fd = gd2(f, fdash, [0.0, 0.0])\n",
    "println(@test xmin ≈ [1.0, 1.0])"
   ]
  },
  {
   "cell_type": "markdown",
   "metadata": {},
   "source": [
    "### 課題3-4\n",
    "- ランダムに問題を作成し，最適解が求まるようにgd2のパラメータを調整せよ"
   ]
  },
  {
   "cell_type": "markdown",
   "metadata": {},
   "source": [
    "#### 下記を実行して最適化問題をランダムに作成"
   ]
  },
  {
   "cell_type": "code",
   "execution_count": null,
   "metadata": {},
   "outputs": [],
   "source": [
    "n = 5\n",
    "A = randn(n, n)\n",
    "b = randn(n)\n",
    "A = A' * A\n",
    "f(x) = x' * (A * x) / 2.0 - b' * x\n",
    "fdash(x) = A * x - b\n",
    "xmin0 = A \\ b # 最適解"
   ]
  },
  {
   "cell_type": "code",
   "execution_count": null,
   "metadata": {},
   "outputs": [],
   "source": [
    "# テストにパスするようxi1, beta, eta0, maxiter を調整する\n",
    "@traceon xmin, fmin, fd = gd2(f, fdash, fill(0.0, n), xi1=1/10000, beta=0.8, eta0=1.0, maxiter=100)\n",
    "path3 = map(x->(x[1], x[2]), @gettrace)\n",
    "display(path3)\n",
    "println(@test xmin0 ≈ xmin)"
   ]
  },
  {
   "cell_type": "markdown",
   "metadata": {},
   "source": [
    "## 課題4\n",
    "- 準ニュートン法"
   ]
  },
  {
   "cell_type": "markdown",
   "metadata": {},
   "source": [
    "### 課題4-1\n",
    "- 準ニュートン法のプログラムを作成せよ\n",
    "- テストプログラムで動作を確認せよ"
   ]
  },
  {
   "cell_type": "code",
   "execution_count": null,
   "metadata": {},
   "outputs": [],
   "source": [
    "function bfgs(f, fdash, x0; xi1=1/10000, beta=0.8, eta0=1.0,  tol=1.0e-12, maxiter=100)\n",
    "    iter = 0\n",
    "    n = length(x0)\n",
    "    B = Matrix{Float64}(I, n, n) # 単位行列\n",
    "    @trace x0, f0, fdash0 = x0, f(x0), fdash(x0)\n",
    "    while true\n",
    "        d = _____________ # コードを記述\n",
    "        x1, f1 = linesearch(f, d, x0, f0, fdash0, xi1=xi1, beta=beta, eta0=eta0)\n",
    "        fdash1 = fdash(x1)\n",
    "\n",
    "        maximum(abs.(x1 - x0)) < tol && return (x1, f1, fdash1, true, iter)\n",
    "        iter >= maxiter && return (x1, f1, fdash1, false, iter)\n",
    "\n",
    "        s = _____________ # コードを記述\n",
    "        y = _____________ # コードを記述\n",
    "        v = B * s\n",
    "        B = B - (v * v') / dot(v, s) + (y * y') / dot(s, y)\n",
    "        @trace x0, f0, fdash0 = x1, f1, fdash1\n",
    "        iter += 1\n",
    "    end\n",
    "end"
   ]
  },
  {
   "cell_type": "markdown",
   "metadata": {},
   "source": [
    "#### テストプログラム\n",
    "- 作成できたら以下のテストプログラムを実行してすべて**Test Passed**になることを確認\n",
    "- **Test Failed** が出たら結果が計算が間違っているので修正"
   ]
  },
  {
   "cell_type": "code",
   "execution_count": null,
   "metadata": {},
   "outputs": [],
   "source": [
    "f(x) = (x[1]-1.0)^2 + 5*(x[2]-1.0)^2\n",
    "fdash(x) = [2.0*(x[1] - 1.0), 10.0 * (x[2] - 1.0)]\n",
    "xmin, fmin, fd = bfgs(f, fdash, [0.0, 0.0])\n",
    "println(@test xmin ≈ [1.0, 1.0])"
   ]
  },
  {
   "cell_type": "markdown",
   "metadata": {},
   "source": [
    "### 課題4-2\n",
    "- ランダムに問題を作成し，最適解が求まるようにbfgsのパラメータを調整せよ"
   ]
  },
  {
   "cell_type": "markdown",
   "metadata": {},
   "source": [
    "#### 下記を実行して最適化問題をランダムに作成"
   ]
  },
  {
   "cell_type": "code",
   "execution_count": null,
   "metadata": {},
   "outputs": [],
   "source": [
    "n = 5\n",
    "A = randn(n, n)\n",
    "b = randn(n)\n",
    "A = A' * A\n",
    "f(x) = x' * (A * x) / 2.0 - b' * x\n",
    "fdash(x) = A * x - b\n",
    "xmin0 = A \\ b # 最適解"
   ]
  },
  {
   "cell_type": "code",
   "execution_count": null,
   "metadata": {},
   "outputs": [],
   "source": [
    "# テストにパスするようxi1, beta, eta0 を調整する\n",
    "@traceon xmin, fmin, fd = bfgs(f, fdash, fill(0.0, n), xi1=1/10000, beta=0.8, eta0=1.0)\n",
    "path4 = map(x->(x[1], x[2]), @gettrace)\n",
    "display(path4)\n",
    "println(@test xmin0 ≈ xmin)"
   ]
  },
  {
   "cell_type": "code",
   "execution_count": null,
   "metadata": {},
   "outputs": [],
   "source": [
    "f(x) = 100.0*(x[2] - x[1]^2)^2 + (1 - x[1])^2\n",
    "fdash(x) = [-200.0*(x[2] -x[1]^2)*2.0*x[1] - 2.0(1-x[1]), 200.0*(x[2] - x[1]^2)]\n",
    "xmin, fmin, conv, iter = nmsimplex(f, nminitial([10.0, 10.0]))\n",
    "println(@test xmin ≈ [1.0, 1.0])"
   ]
  },
  {
   "cell_type": "markdown",
   "metadata": {},
   "source": [
    "## 課題5\n",
    "- 最適化実践\n",
    "- 以下の Rosenbrock 関数を最小にする解を何らかの手法を使って求めよ"
   ]
  },
  {
   "cell_type": "code",
   "execution_count": null,
   "metadata": {},
   "outputs": [],
   "source": [
    "f(x) = 100.0*(x[2] - x[1]^2)^2 + (1 - x[1])^2"
   ]
  },
  {
   "cell_type": "code",
   "execution_count": null,
   "metadata": {},
   "outputs": [],
   "source": [
    "# ここにコードを記述\n"
   ]
  },
  {
   "cell_type": "code",
   "execution_count": null,
   "metadata": {},
   "outputs": [],
   "source": []
  }
 ],
 "metadata": {
  "kernelspec": {
   "display_name": "Julia 1.3.0",
   "language": "julia",
   "name": "julia-1.3"
  },
  "language_info": {
   "file_extension": ".jl",
   "mimetype": "application/julia",
   "name": "julia",
   "version": "1.3.0"
  }
 },
 "nbformat": 4,
 "nbformat_minor": 2
}
