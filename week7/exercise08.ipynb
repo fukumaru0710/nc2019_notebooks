{
 "cells": [
  {
   "cell_type": "markdown",
   "metadata": {},
   "source": [
    "# モンテカルロシミュレーション\n",
    "\n",
    "- すべての課題を実行せよ\n",
    "- すべての課題が完了したら Jupyter の File メニューから Download as -> Markdown (.md) として結果をダウンロードし， Bb9 の「課題」からファイル添付で提出せよ"
   ]
  },
  {
   "cell_type": "code",
   "execution_count": null,
   "metadata": {},
   "outputs": [],
   "source": [
    "# 初期化なので最初に実行してください\n",
    "using Random\n",
    "using Test\n",
    "using Printf"
   ]
  },
  {
   "cell_type": "markdown",
   "metadata": {},
   "source": [
    "## 課題1\n",
    "\n",
    "### 線形合同法\n",
    "- でたらめに見える数列を生成する"
   ]
  },
  {
   "cell_type": "markdown",
   "metadata": {},
   "source": [
    "## 課題1-1\n",
    "- 線形合同法のプログラムを完成させよ\n"
   ]
  },
  {
   "cell_type": "markdown",
   "metadata": {},
   "source": [
    "### lcg の説明\n",
    "- 引数\n",
    "    - x0: 乱数シード\n",
    "    - a, b: 次の整数を求めるための定数\n",
    "    - m: mod計算に使う整数\n",
    "- 戻り値\n",
    "    - x0 をシードとしたときの次の整数\n",
    "- 関数内の変数\n",
    "    - x1: 次の整数"
   ]
  },
  {
   "cell_type": "code",
   "execution_count": null,
   "metadata": {},
   "outputs": [],
   "source": [
    "function lcg(x0, a, b, m)\n",
    "    x1 = ? ## 更新式を記述\n",
    "    return x1\n",
    "end"
   ]
  },
  {
   "cell_type": "markdown",
   "metadata": {},
   "source": [
    "#### テストプログラム\n",
    "- 作成できたら以下のテストプログラムを実行してすべて**Test Passed**になることを確認\n",
    "- **Test Failed** が出たら結果が計算が間違っているので修正"
   ]
  },
  {
   "cell_type": "code",
   "execution_count": null,
   "metadata": {},
   "outputs": [],
   "source": [
    "expected = [18, 23, 16, 21, 14, 19, 12, 17, 10, 15, 8, 13, 6, 11, 4, 9, 2, 7, 0, 5, 22, 3, 20, 1]\n",
    "x, a, b, m = 1, 13, 5, 24\n",
    "for i = 1:24\n",
    "    x = lcg(x, a, b, m)\n",
    "    println(@test x == expected[i])\n",
    "end"
   ]
  },
  {
   "cell_type": "markdown",
   "metadata": {},
   "source": [
    "## 課題1-2\n",
    "- (x, a, b, m) = (0, 5, 1, 8) としたときの周期を求めよ\n",
    "- (x, a, b, m) = (0, 5, 2, 8) としたときの周期を求めよ"
   ]
  },
  {
   "cell_type": "code",
   "execution_count": null,
   "metadata": {},
   "outputs": [],
   "source": [
    "# 周期の検証はここでしてください"
   ]
  },
  {
   "cell_type": "markdown",
   "metadata": {},
   "source": [
    "### 解答はここに記述\n",
    "- (x, a, b, m) = (0, 5, 1, 8) としたときの周期: ?\n",
    "- (x, a, b, m) = (0, 5, 2, 8) としたときの周期: ?"
   ]
  },
  {
   "cell_type": "markdown",
   "metadata": {},
   "source": [
    "## 課題1-3\n",
    "- (x, a, b, m) = (1, 13, 5, 24) とすると奇数と偶数が交互に現れる．その理由について考察せよ"
   ]
  },
  {
   "cell_type": "markdown",
   "metadata": {},
   "source": [
    "#### 解答\n",
    "\n",
    "- ここに考察を記述"
   ]
  },
  {
   "cell_type": "markdown",
   "metadata": {},
   "source": [
    "---"
   ]
  },
  {
   "cell_type": "markdown",
   "metadata": {},
   "source": [
    "## 課題2\n",
    "- メルセンヌツイスター"
   ]
  },
  {
   "cell_type": "markdown",
   "metadata": {},
   "source": [
    "### 課題2-1\n",
    "- 乱数生成器としてメルセンヌツイスターを利用する\n",
    "- 適当なシードを与えて線形合同法とメルセンヌツイスターの乱数の質について考察せよ"
   ]
  },
  {
   "cell_type": "code",
   "execution_count": null,
   "metadata": {},
   "outputs": [],
   "source": [
    "seed = 1234  # 適当な整数を与えてください\n",
    "println(\"メルセンヌツイスターの2進数表示\")\n",
    "rng = MersenneTwister(seed)\n",
    "for i = 1:20\n",
    "    println(bitstring(rand(rng, Int32)))\n",
    "end\n",
    "println(\"線形合同法の2進数表示\")\n",
    "x = seed\n",
    "for i = 1:20\n",
    "    x = lcg(x, 1103515245, 12345, 2^32)\n",
    "    println(bitstring(x))\n",
    "end"
   ]
  },
  {
   "cell_type": "markdown",
   "metadata": {},
   "source": [
    "#### 解答\n",
    "\n",
    "- ここに考察を記述"
   ]
  },
  {
   "cell_type": "markdown",
   "metadata": {},
   "source": [
    "## 課題2-2\n",
    "- メルセンヌツイスターの周期は $2^{19937}-1$ である．この整数を10進数で表したときおよそ何桁になるか計算しなさい"
   ]
  },
  {
   "cell_type": "code",
   "execution_count": null,
   "metadata": {},
   "outputs": [],
   "source": [
    "## 計算式をここに記述"
   ]
  },
  {
   "cell_type": "markdown",
   "metadata": {},
   "source": [
    "## 課題3\n",
    "- 乱数の生成\n",
    "- 一様乱数"
   ]
  },
  {
   "cell_type": "markdown",
   "metadata": {},
   "source": [
    "### 課題3-1\n",
    "- 下記のプログラムを実行せよ"
   ]
  },
  {
   "cell_type": "markdown",
   "metadata": {},
   "source": [
    "### rand4 の説明\n",
    "- 概要\n",
    "    - メルセンヌツイスターの上位2ビットだけを使った乱数生成器\n",
    "- 引数\n",
    "    - rng: 乱数生成器\n",
    "- 戻り値\n",
    "    - 0から3の整数（unsigned）"
   ]
  },
  {
   "cell_type": "code",
   "execution_count": null,
   "metadata": {},
   "outputs": [],
   "source": [
    "function rand4(rng)\n",
    "    rand(rng, UInt32) >>> 30\n",
    "end"
   ]
  },
  {
   "cell_type": "markdown",
   "metadata": {},
   "source": [
    "#### テストプログラム"
   ]
  },
  {
   "cell_type": "code",
   "execution_count": null,
   "metadata": {},
   "outputs": [],
   "source": [
    "rng = MersenneTwister(1234)\n",
    "expected = [2, 3, 3, 1, 1]\n",
    "actual = [rand4(rng) for i = 1:5]\n",
    "@test expected == actual"
   ]
  },
  {
   "cell_type": "markdown",
   "metadata": {},
   "source": [
    "### 課題3-2\n",
    "- rand4 を使って 0 から2までの乱数を生成するプログラムを作成する\n",
    "- mod を使った実装を行う"
   ]
  },
  {
   "cell_type": "markdown",
   "metadata": {},
   "source": [
    "### randrange2 の説明\n",
    "- 概要\n",
    "    - メルセンヌツイスターの上位2ビットだけを使った乱数生成器\n",
    "- 引数\n",
    "    - rng: 乱数生成器\n",
    "- 戻り値\n",
    "    - 0から2の整数"
   ]
  },
  {
   "cell_type": "code",
   "execution_count": null,
   "metadata": {},
   "outputs": [],
   "source": [
    "function randrange2(rng)\n",
    "    x = rand4(rng)\n",
    "    return x % ? # ?に適切な数字を記入\n",
    "end"
   ]
  },
  {
   "cell_type": "markdown",
   "metadata": {},
   "source": [
    "#### テストプログラム"
   ]
  },
  {
   "cell_type": "code",
   "execution_count": null,
   "metadata": {},
   "outputs": [],
   "source": [
    "rng = MersenneTwister(1234)\n",
    "expected = [2, 0, 0, 1, 1]\n",
    "actual = [randrange2(rng) for i = 1:5]\n",
    "@test expected == actual"
   ]
  },
  {
   "cell_type": "markdown",
   "metadata": {},
   "source": [
    "### 課題3-3\n",
    "- randrange2で出力する整数0,1,2それぞれの頻度を計測する\n",
    "- なぜこのような結果になったのかその理由を記述せよ"
   ]
  },
  {
   "cell_type": "markdown",
   "metadata": {},
   "source": [
    "#### 下記を実行して頻度を計測"
   ]
  },
  {
   "cell_type": "code",
   "execution_count": null,
   "metadata": {},
   "outputs": [],
   "source": [
    "result = [randrange2(rng) for i = 1:1000]\n",
    "@printf(\"0の数 %d\\n\", sum(result .== 0))\n",
    "@printf(\"1の数 %d\\n\", sum(result .== 1))\n",
    "@printf(\"2の数 %d\\n\", sum(result .== 2))"
   ]
  },
  {
   "cell_type": "markdown",
   "metadata": {},
   "source": [
    "#### 解答\n",
    "\n",
    "- ここに考察を記述"
   ]
  },
  {
   "cell_type": "markdown",
   "metadata": {},
   "source": [
    "## 課題4\n",
    "- 乱数の生成\n",
    "- 一様乱数"
   ]
  },
  {
   "cell_type": "markdown",
   "metadata": {},
   "source": [
    "### 課題4-1\n",
    "- ベルヌーイ分布に従うサンプルを生成するプログラムを作成せよ\n",
    "- テストプログラムで動作を確認せよ"
   ]
  },
  {
   "cell_type": "markdown",
   "metadata": {},
   "source": [
    "### BernoulliDistの説明\n",
    "- 引数\n",
    "    - p: 成功確率\n",
    "    - rng: 乱数生成器\n",
    "- 戻り値\n",
    "    - ベルヌーイ分布のサンプル\n",
    "- 関数内の変数"
   ]
  },
  {
   "cell_type": "code",
   "execution_count": null,
   "metadata": {},
   "outputs": [],
   "source": [
    "function BernoulliDist(p, rng)\n",
    "    if ____________ ## 条件を記述\n",
    "        return 1\n",
    "    else\n",
    "        return 0\n",
    "    end\n",
    "end\n"
   ]
  },
  {
   "cell_type": "markdown",
   "metadata": {},
   "source": [
    "#### テストプログラム\n",
    "- 作成できたら以下のテストプログラムを実行してすべて**Test Passed**になることを確認\n",
    "- **Test Failed** が出たら結果が計算が間違っているので修正\n",
    "- 注意：分布はあっているけどサンプルが違う作り方ができますが，今回は下記のテストにパスするように条件を合わせてください"
   ]
  },
  {
   "cell_type": "code",
   "execution_count": null,
   "metadata": {},
   "outputs": [],
   "source": [
    "rng = MersenneTwister(1234)\n",
    "expected = [0, 0, 0, 0, 0, 0, 1, 1, 1, 0]\n",
    "actual = [BernoulliDist(0.4, rng) for i = 1:10]\n",
    "@test expected == actual"
   ]
  },
  {
   "cell_type": "markdown",
   "metadata": {},
   "source": [
    "### 課題4-2\n",
    "- 二項分布に従うサンプルを生成するプログラムを作成せよ\n",
    "- テストプログラムで動作を確認せよ"
   ]
  },
  {
   "cell_type": "markdown",
   "metadata": {},
   "source": [
    "### binomialDistの説明\n",
    "- 引数\n",
    "    - p: 成功確率\n",
    "    - n: 試行回数\n",
    "    - rng: 乱数生成器\n",
    "- 戻り値\n",
    "    - 二項分布のサンプル\n",
    "- 関数内の変数"
   ]
  },
  {
   "cell_type": "code",
   "execution_count": null,
   "metadata": {},
   "outputs": [],
   "source": [
    "function binomialDist(p, n, rng)\n",
    "    sample = 0\n",
    "    for i = 1:n\n",
    "        _____________________ # BernoulliDist を利用して sample の値を更新\n",
    "    end\n",
    "    return sample\n",
    "end\n"
   ]
  },
  {
   "cell_type": "markdown",
   "metadata": {},
   "source": [
    "#### テストプログラム\n",
    "- 作成できたら以下のテストプログラムを実行してすべて**Test Passed**になることを確認\n",
    "- **Test Failed** が出たら結果が計算が間違っているので修正"
   ]
  },
  {
   "cell_type": "code",
   "execution_count": null,
   "metadata": {},
   "outputs": [],
   "source": [
    "rng = MersenneTwister(1234)\n",
    "expected = [4, 5, 5, 7, 9, 4, 6, 4, 7, 6]\n",
    "actual = [binomialDist(0.5, 10, rng) for i = 1:10]\n",
    "@test expected == actual"
   ]
  },
  {
   "cell_type": "markdown",
   "metadata": {},
   "source": [
    "### 課題4-3\n",
    "- 幾何分布に従うサンプルを生成するプログラムを作成せよ\n",
    "- テストプログラムで動作を確認せよ"
   ]
  },
  {
   "cell_type": "markdown",
   "metadata": {},
   "source": [
    "### geometricDistの説明\n",
    "- 引数\n",
    "    - p: 成功確率\n",
    "    - rng: 乱数生成器\n",
    "- 戻り値\n",
    "    - 幾何分布のサンプル\n",
    "- 関数内の変数"
   ]
  },
  {
   "cell_type": "code",
   "execution_count": null,
   "metadata": {},
   "outputs": [],
   "source": [
    "function geometricDist(p, rng)\n",
    "    sample = 0\n",
    "    while ________________________ # 成功するまでつづける．BernoulliDistを利用\n",
    "        sample += 1\n",
    "    end\n",
    "    return sample\n",
    "end\n"
   ]
  },
  {
   "cell_type": "markdown",
   "metadata": {},
   "source": [
    "#### テストプログラム\n",
    "- 作成できたら以下のテストプログラムを実行してすべて**Test Passed**になることを確認\n",
    "- **Test Failed** が出たら結果が計算が間違っているので修正"
   ]
  },
  {
   "cell_type": "code",
   "execution_count": null,
   "metadata": {},
   "outputs": [],
   "source": [
    "rng = MersenneTwister(1234)\n",
    "expected = [3, 2, 0, 0, 2, 0, 2, 0, 1, 6]\n",
    "actual = [geometricDist(0.5, rng) for i = 1:10]\n",
    "@test expected == actual"
   ]
  },
  {
   "cell_type": "markdown",
   "metadata": {},
   "source": [
    "### 課題4-4\n",
    "- 一様分布に従うサンプルを生成するプログラムを作成せよ\n",
    "- テストプログラムで動作を確認せよ"
   ]
  },
  {
   "cell_type": "markdown",
   "metadata": {},
   "source": [
    "### uniformDistの説明\n",
    "- 引数\n",
    "    - a, b: 区間 [a, b]\n",
    "    - rng: 乱数生成器\n",
    "- 戻り値\n",
    "    - 区間[a,b]上の一様分布のサンプル\n",
    "- 関数内の変数"
   ]
  },
  {
   "cell_type": "code",
   "execution_count": null,
   "metadata": {},
   "outputs": [],
   "source": [
    "function unifDist(a, b, rng)\n",
    "    u =　___________ ## 式を記述．　rand(rng) を利用\n",
    "    return u\n",
    "end"
   ]
  },
  {
   "cell_type": "markdown",
   "metadata": {},
   "source": [
    "#### テストプログラム\n",
    "- 作成できたら以下のテストプログラムを実行してすべて**Test Passed**になることを確認\n",
    "- **Test Failed** が出たら結果が計算が間違っているので修正\n",
    "- 注意：分布はあっているけどサンプルが違う作り方ができますが，今回は下記のテストにパスするように式を合わせてください"
   ]
  },
  {
   "cell_type": "code",
   "execution_count": null,
   "metadata": {},
   "outputs": [],
   "source": [
    "rng = MersenneTwister(1234)\n",
    "expected = [5.908446386657102, \n",
    " 7.667970365022592, \n",
    " 5.662374165061859, \n",
    " 4.600853424625171, \n",
    " 7.9402571033179425,\n",
    " 8.541465903790503, \n",
    " 2.005860349338411, \n",
    " 2.986142783434118, \n",
    " 2.4683718661000897,\n",
    " 5.796722333690417]\n",
    "actual = [unifDist(0.0, 10.0, rng) for i = 1:10]\n",
    "@test expected ≈ actual"
   ]
  },
  {
   "cell_type": "markdown",
   "metadata": {},
   "source": [
    "### 課題4-5\n",
    "- 指数分布に従うサンプルを生成するプログラムを作成せよ\n",
    "- テストプログラムで動作を確認せよ"
   ]
  },
  {
   "cell_type": "markdown",
   "metadata": {},
   "source": [
    "### expDistの説明\n",
    "- 引数\n",
    "    - mu: パラメータ\n",
    "    - rng: 乱数生成器\n",
    "- 戻り値\n",
    "    - パラメータ　mu の指数分布のサンプル\n",
    "- 関数内の変数"
   ]
  },
  {
   "cell_type": "code",
   "execution_count": null,
   "metadata": {},
   "outputs": [],
   "source": [
    "function expDist(mu, rng)\n",
    "    u = rand(rng)\n",
    "    return __________ ## 式を記述．　逆関数法で生成\n",
    "end"
   ]
  },
  {
   "cell_type": "markdown",
   "metadata": {},
   "source": [
    "#### テストプログラム\n",
    "- 作成できたら以下のテストプログラムを実行してすべて**Test Passed**になることを確認\n",
    "- **Test Failed** が出たら結果が計算が間違っているので修正\n",
    "- 注意：分布はあっているけどサンプルが違う作り方ができますが，今回は下記のテストにパスするように式を合わせてください"
   ]
  },
  {
   "cell_type": "code",
   "execution_count": null,
   "metadata": {},
   "outputs": [],
   "source": [
    "rng = MersenneTwister(1234)\n",
    "expected = [0.0526202174872934,\n",
    "    0.026553313257781958,\n",
    "    0.05687418249374489, \n",
    "    0.07763432796145905, \n",
    "    0.023063943748872544,\n",
    "    0.015765244842628305,\n",
    "    0.1606512022358992,  \n",
    "    0.1208602577393308,\n",
    "    0.13990263232201805, \n",
    "    0.0545292450060232]\n",
    "actual = [expDist(10.0, rng) for i = 1:10]\n",
    "@test expected ≈ actual"
   ]
  },
  {
   "cell_type": "markdown",
   "metadata": {},
   "source": [
    "## 課題5"
   ]
  },
  {
   "cell_type": "markdown",
   "metadata": {},
   "source": [
    "### 課題5-1\n",
    "- 以下のプログラムを作成せよ"
   ]
  },
  {
   "cell_type": "markdown",
   "metadata": {},
   "source": [
    "### sphereの説明\n",
    "- x,y,z空間上で原点を中心として1辺が2の立方体の中にランダムに一つ点をとり，それが原点を中心とする半径1の球の中に入っていれば1，そうれでなければ0を返す関数\n",
    "- 引数\n",
    "    - rng: 乱数生成器\n",
    "- 戻り値\n",
    "    - ランダムに取った点が球の中にあるかどうかを表す指標変数\n",
    "- 関数内の変数"
   ]
  },
  {
   "cell_type": "code",
   "execution_count": null,
   "metadata": {},
   "outputs": [],
   "source": [
    "function sphere(rng)\n",
    "    x = unifDist(-1, 1, rng)\n",
    "    y = unifDist(-1, 1, rng)\n",
    "    z = unifDist(-1, 1, rng)\n",
    "    if _____________________ # (x,y,z) が球の中の点かどうかのチェック\n",
    "        return 1.0\n",
    "    else\n",
    "        return 0.0\n",
    "    end\n",
    "end"
   ]
  },
  {
   "cell_type": "markdown",
   "metadata": {},
   "source": [
    "#### テストプログラム\n",
    "- 作成できたら以下のテストプログラムを実行してすべて**Test Passed**になることを確認\n",
    "- **Test Failed** が出たら結果が計算が間違っているので修正"
   ]
  },
  {
   "cell_type": "code",
   "execution_count": null,
   "metadata": {},
   "outputs": [],
   "source": [
    "rng = MersenneTwister(1234)\n",
    "expected = [1.0, 1.0, 1.0, 0.0, 0.0, 1.0, 0.0, 0.0, 0.0, 1.0]\n",
    "actual = [sphere(rng) for i = 1:10]\n",
    "@test expected ≈ actual"
   ]
  },
  {
   "cell_type": "markdown",
   "metadata": {},
   "source": [
    "### 課題5-2\n",
    "- sphere関数を用いてモンテカルロ積分を実行せよ\n",
    "- サンプル数と積分の精度について考察せよ"
   ]
  },
  {
   "cell_type": "code",
   "execution_count": null,
   "metadata": {},
   "outputs": [],
   "source": [
    "for n = [10, 1000, 100000, 10000000]\n",
    "    rng = MersenneTwister(1234)\n",
    "    res = [sphere(rng) for i = 1:n]\n",
    "    area = sum(res) * 8.0 / length(res) # 8 を掛けていることに注意\n",
    "    @printf(\"サンプル数: %d, 体積の見積もり %f, 真の体積 %f\\n\", n, area, 4*pi/3)\n",
    "end"
   ]
  },
  {
   "cell_type": "markdown",
   "metadata": {},
   "source": [
    "#### 解答\n",
    "\n",
    "- ここに考察を記述"
   ]
  },
  {
   "cell_type": "markdown",
   "metadata": {},
   "source": [
    "### 課題5-3\n",
    "- ランダムウォークをシミュレーションする関数を作成せよ"
   ]
  },
  {
   "cell_type": "markdown",
   "metadata": {},
   "source": [
    "### randomwalkの説明\n",
    "- x,y,z空間上で原点を中心として1辺が2の立方体の中にランダムに一つ点をとり，それが原点を中心とする半径1の球の中に入っていれば1，そうれでなければ0を返す関数\n",
    "- 引数\n",
    "    - p: Aが１回の勝負で勝つ確率\n",
    "    - na: Aが最初に持っているコイン\n",
    "    - nb: Bが最初に持っているコイン\n",
    "    - rng: 乱数生成器\n",
    "- 戻り値\n",
    "    - Aが勝ったかどうかを表す指標変数\n",
    "- 関数内の変数\n",
    "    - a, b: A, B が現在所持しているコインの数"
   ]
  },
  {
   "cell_type": "code",
   "execution_count": null,
   "metadata": {},
   "outputs": [],
   "source": [
    "function randomwalk(p, na, nb, rng)\n",
    "    a, b = na, nb # a, b が所有するコインの数\n",
    "    while a != 0 && b != 0\n",
    "        if BernoulliDist(p, rng) == 1 # A が勝ち\n",
    "            _______________ # ここに式を記入（複数行になってもよい）\n",
    "        else\n",
    "            _______________ # ここに式を記入（複数行になってもよい）\n",
    "        end\n",
    "    end\n",
    "    return b == 0 ? 1 : 0\n",
    "end"
   ]
  },
  {
   "cell_type": "markdown",
   "metadata": {},
   "source": [
    "### 課題5-4\n",
    "- (p, na, nb) = (0.5, 10, 10) の時， A が最終的に勝つ確率を見積もれ．ただし，シミュレーション回数は100回とする\n",
    "- (p, na, nb) = (0.5, 20, 10) の時， A が最終的に勝つ確率を見積もれ．ただし，シミュレーション回数は100回とする"
   ]
  },
  {
   "cell_type": "code",
   "execution_count": null,
   "metadata": {},
   "outputs": [],
   "source": [
    "### 計算はここに記述"
   ]
  },
  {
   "cell_type": "markdown",
   "metadata": {},
   "source": [
    "### 解答を以下に記入\n",
    "\n",
    "- (p, na, nb) = (0.5, 10, 10) の時， A が最終的に勝つ確率：？\n",
    "- (p, na, nb) = (0.5, 20, 10) の時， A が最終的に勝つ確率：？"
   ]
  },
  {
   "cell_type": "code",
   "execution_count": null,
   "metadata": {},
   "outputs": [],
   "source": []
  }
 ],
 "metadata": {
  "kernelspec": {
   "display_name": "Julia 1.3.0",
   "language": "julia",
   "name": "julia-1.3"
  },
  "language_info": {
   "file_extension": ".jl",
   "mimetype": "application/julia",
   "name": "julia",
   "version": "1.3.0"
  }
 },
 "nbformat": 4,
 "nbformat_minor": 2
}
